{
  "nbformat": 4,
  "nbformat_minor": 0,
  "metadata": {
    "colab": {
      "provenance": [],
      "authorship_tag": "ABX9TyMLk+m/Ob7FOHeDRo3rkpLv",
      "include_colab_link": true
    },
    "kernelspec": {
      "name": "python3",
      "display_name": "Python 3"
    },
    "language_info": {
      "name": "python"
    }
  },
  "cells": [
    {
      "cell_type": "markdown",
      "metadata": {
        "id": "view-in-github",
        "colab_type": "text"
      },
      "source": [
        "<a href=\"https://colab.research.google.com/github/pachterlab/CGP_2024_2/blob/main/condition_kinetics_example.ipynb\" target=\"_parent\"><img src=\"https://colab.research.google.com/assets/colab-badge.svg\" alt=\"Open In Colab\"/></a>"
      ]
    },
    {
      "cell_type": "markdown",
      "source": [
        "**In this notebook we will fit the bursty model of transcription, with length-biased technical noise, to drug-resistant lung cancer cells. We will investigate the changes in kinetics between cells pre- and post-resistance acquisition, i.e., the perturbation-specific kinetics induced by drug treatment and resistance development.**"
      ],
      "metadata": {
        "id": "-ejJd0qU4vj1"
      }
    },
    {
      "cell_type": "markdown",
      "source": [
        "## **Read in data and metadata**"
      ],
      "metadata": {
        "id": "wlxbKawo5COw"
      }
    },
    {
      "cell_type": "code",
      "source": [
        "#Install\n",
        "!pip install --quiet monod\n",
        "!pip install -U --quiet loompy\n"
      ],
      "metadata": {
        "id": "Wec7iOao5Bm5"
      },
      "execution_count": 1,
      "outputs": []
    },
    {
      "cell_type": "code",
      "source": [],
      "metadata": {
        "id": "y6ZqmBHpFKNi"
      },
      "execution_count": null,
      "outputs": []
    },
    {
      "cell_type": "code",
      "source": [
        "#/home/tchari/metadata/home/alex/lab/drugres/10x/D0D3FullSeq/Day3/outs/filtered_feature_bc_matrix/barcodes.tsv\n",
        "#/home/tchari/metadata/home/alex/lab/drugres/10x/D0D3FullSeq/Day0/outs/filtered_feature_bc_matrix/barcodes.tsv\n",
        "\n",
        "#transcriptome /home/tchari/perturbCME/notebooks/gg_200525_genome_polyA_cum_3\n",
        "\n",
        "#loom /home/tchari/counts/cancer_dt/loom/all_cancer_dt.loom\n",
        "#home/tchari/counts/cancer_dt/loom/all_cancer_ctrl.loom\n",
        "\n",
        "\n",
        "#https://data.caltech.edu/records/cyr5a-ws203/files/cancer_dt_looms.tar.gz?download=1"
      ],
      "metadata": {
        "id": "_ZGAN5Hk5BpX"
      },
      "execution_count": null,
      "outputs": []
    },
    {
      "cell_type": "code",
      "execution_count": null,
      "metadata": {
        "id": "dBMDbeoszvXe"
      },
      "outputs": [],
      "source": [
        "import monod\n",
        "from monod import preprocess, extract_data, cme_toolbox, inference, analysis"
      ]
    },
    {
      "cell_type": "code",
      "source": [
        "import pandas as pd\n",
        "import numpy as np\n",
        "import loompy as lp\n",
        "import matplotlib.pyplot as plt\n",
        "import scipy\n",
        "import seaborn as sns\n",
        "import scipy.stats\n",
        "\n",
        "import random\n",
        "import glob\n",
        "import os"
      ],
      "metadata": {
        "id": "ywYiYUzMFNNM"
      },
      "execution_count": null,
      "outputs": []
    },
    {
      "cell_type": "code",
      "source": [],
      "metadata": {
        "id": "hlXg3oMYFg-s"
      },
      "execution_count": null,
      "outputs": []
    },
    {
      "cell_type": "markdown",
      "source": [
        "Data is downloaded from https://www.nature.com/articles/s41467-021-21884-z"
      ],
      "metadata": {
        "id": "JWE-cFbyFhWx"
      }
    },
    {
      "cell_type": "markdown",
      "source": [
        "## **Run *Monod* inference on loom files**"
      ],
      "metadata": {
        "id": "nB29Zz6T5QsN"
      }
    },
    {
      "cell_type": "code",
      "source": [
        "ds = lp.connect('./all_cancer_ctrl.loom')\n",
        "bars_day0 = ds.ca['barcode']\n",
        "g_names = ds.ra['gene_name']\n",
        "ds.close()\n",
        "\n",
        "ds = lp.connect('./all_cancer_dt.loom')\n",
        "bars_day3 = ds.ca['barcode']\n",
        "ds.close()"
      ],
      "metadata": {
        "id": "agXCrC7RPwKI"
      },
      "execution_count": null,
      "outputs": []
    },
    {
      "cell_type": "code",
      "source": [
        "orig_bcs_day0 = pd.read_csv('./D0D3FullSeq/Day0/outs/filtered_feature_bc_matrix/barcodes.tsv',header=None)\n",
        "print(orig_bcs_day0.head())\n",
        "\n",
        "orig_bcs_day3 = pd.read_csv('./D0D3FullSeq/Day3/outs/filtered_feature_bc_matrix/barcodes.tsv',header=None)\n",
        "orig_bcs_day3.head()"
      ],
      "metadata": {
        "id": "mBMCVVZ3WM7X"
      },
      "execution_count": null,
      "outputs": []
    },
    {
      "cell_type": "code",
      "source": [
        "#Set up the filepaths and metadata for Monod run\n",
        "loom_filepaths = ['./all_cancer_ctrl.loom','./all_cancer_dt.loom']\n",
        "\n",
        "dataset_names = ['Day0','Day3']\n",
        "\n",
        "transcriptome_filepath = './gg_200525_genome_polyA_cum_3'\n",
        "\n",
        "spliced_layer = 'spliced'\n",
        "unspliced_layer = 'unspliced'\n",
        "gene_attr = 'gene_name'\n",
        "cell_attr = 'barcode'\n",
        "\n",
        "attribute_names=[(unspliced_layer,spliced_layer),gene_attr,cell_attr]"
      ],
      "metadata": {
        "id": "T9vH0GiV5SP-"
      },
      "execution_count": null,
      "outputs": []
    },
    {
      "cell_type": "code",
      "source": [
        "#Get cell barcodes for Day 0 and Day 3 cells\n",
        "\n",
        "cell_filt = [pd.Categorical(bars_day0).isin(list(orig_bcs_day0[0])),pd.Categorical(bars_day3).isin(list(orig_bcs_day3[0]))] #Day 0 barcode filt, Day 3 barcode filt"
      ],
      "metadata": {
        "id": "aMVaWJpeTlV6"
      },
      "execution_count": null,
      "outputs": []
    },
    {
      "cell_type": "code",
      "source": [
        "#Select 500 genes to fit both Day 0 (pre-resistance) and Day 3 (drug-tolerant) cells on\n",
        "dir_string,dataset_strings = monod.preprocess.construct_batch(loom_filepaths, \\\n",
        "                                             transcriptome_filepath, \\\n",
        "                                             dataset_names, \\\n",
        "                                             attribute_names=attribute_names,\\\n",
        "                                             batch_location='./',meta='DT_Days',batch_id=1,\\\n",
        "                                             n_genes=500,exp_filter_threshold=None,cf=cell_filt)"
      ],
      "metadata": {
        "id": "ONqV9kmV5SSb"
      },
      "execution_count": null,
      "outputs": []
    },
    {
      "cell_type": "code",
      "source": [
        "# OR if you want to specify the genes to fit\n",
        "\n",
        "# example_genes = []\n",
        "# dir_string,dataset_strings = monod.preprocess.construct_batch(loom_filepaths, \\\n",
        "#                                              transcriptome_filepath, \\\n",
        "#                                              dataset_names, \\\n",
        "#                                              attribute_names=attribute_names,\\\n",
        "#                                              batch_location='./',meta='DT_Days',batch_id=1,\\\n",
        "#                                              n_genes=500,exp_filter_threshold=None,\n",
        "#                                              genes_to_fit=example_genes,\n",
        "#                                              cf=cell_filt)"
      ],
      "metadata": {
        "id": "sFYyS4AwK49K"
      },
      "execution_count": null,
      "outputs": []
    },
    {
      "cell_type": "markdown",
      "source": [
        "**Run *Monod* Inference**"
      ],
      "metadata": {
        "id": "RY_20jWkUJK_"
      }
    },
    {
      "cell_type": "code",
      "source": [
        "#Define bounds for parameters\n",
        "phys_lb = [-2.0, -1.8, -1.8 ] #lower bounds for b,beta,gamma (log10)\n",
        "phys_ub = [4.2, 2.5, 2.5] #upper bounds for b,beta,gamma\n",
        "samp_lb = [-9, -4] #lower bounds for sampling parameters (c_u,lambda_s)\n",
        "samp_ub = [-4, 1.5] #upper bounds for sampling parameters (c_u,lambda_s)\n",
        "# gridsize = [5,6]\n",
        "gridsize = [10,11] #20,21 #run across grid of technical/sampling parameters"
      ],
      "metadata": {
        "id": "WFbhZthQULip"
      },
      "execution_count": null,
      "outputs": []
    },
    {
      "cell_type": "code",
      "source": [
        "\n",
        "for i in range(len(dataset_strings)):\n",
        "  #Set burst model with poisson technical sampling\n",
        "  fitmodel = monod.cme_toolbox.CMEModel('Bursty','Poisson')\n",
        "\n",
        "  #Set up inference\n",
        "  inference_parameters = monod.inference.InferenceParameters(phys_lb,phys_ub,samp_lb,samp_ub,gridsize,\\\n",
        "              dataset_strings[i],fitmodel,use_lengths = True,\n",
        "              gradient_params = {'max_iterations':5,'init_pattern':'moments','num_restarts':1})\n",
        "\n",
        "  search_data = monod.extract_data.extract_data(loom_filepaths[i], transcriptome_filepath, dataset_names[i],\n",
        "              dataset_strings[i], dir_string, dataset_attr_names=attribute_names,cf=cell_filt[i])\n",
        "\n",
        "  #Run inference\n",
        "  full_result_string = inference_parameters.fit_all_grid_points(1,search_data) #only use one core on Colab\n"
      ],
      "metadata": {
        "id": "jLPhMxgJULko"
      },
      "execution_count": null,
      "outputs": []
    },
    {
      "cell_type": "code",
      "source": [
        "result_strings = [i+'/Bursty_Poisson_10x11/grid_scan_results.res' for i in dataset_strings] #Get results\n",
        "print(result_strings)"
      ],
      "metadata": {
        "id": "quEOZIKEVTEU"
      },
      "execution_count": null,
      "outputs": []
    },
    {
      "cell_type": "markdown",
      "source": [
        "## **DE-$\\theta$ analysis of results**"
      ],
      "metadata": {
        "id": "IWrUY_ks6nno"
      }
    },
    {
      "cell_type": "code",
      "source": [],
      "metadata": {
        "id": "K7hvo2AD6zA7"
      },
      "execution_count": null,
      "outputs": []
    },
    {
      "cell_type": "markdown",
      "source": [
        "Read in results and perform rejection statistics"
      ],
      "metadata": {
        "id": "zEjCotIAgkY6"
      }
    },
    {
      "cell_type": "code",
      "source": [],
      "metadata": {
        "id": "UYXSkKiGm6Fa"
      },
      "execution_count": null,
      "outputs": []
    },
    {
      "cell_type": "code",
      "source": [
        "sr_arr = []\n",
        "sd_arr = []\n",
        "for r in range(len(result_strings)):\n",
        "  sr = monod.analysis.load_search_results(result_strings[r])\n",
        "  sd = monod.analysis.load_search_data(dir_string+'/'+dataset_names[r]+'/raw.sd')\n",
        "\n",
        "  sr.find_sampling_optimum() #Get optimal technical sampling param from grid\n",
        "\n",
        "  #Chi sq rejection\n",
        "  _=sr.chisquare_testing(sd,threshold=1e-3)\n",
        "  sr.chisq_best_param_correction(sd,Ntries=4,viz=False,threshold=1e-3)\n",
        "\n",
        "  sr.compute_sigma(sd,num_cores=1) #Compute std error for parameters\n",
        "\n",
        "  monod.analysis.make_batch_analysis_dir([sr],dir_string)\n",
        "  sr.update_on_disk()\n",
        "\n",
        "  sr_arr += [sr]\n",
        "  sd_arr += [sd]\n",
        ""
      ],
      "metadata": {
        "id": "AM04BLvB63-h"
      },
      "execution_count": null,
      "outputs": []
    },
    {
      "cell_type": "code",
      "source": [
        "#Function to find DE-theta genes between two Monod results objects\n",
        "\n",
        "def make_fcs_srs(sr1,sr2,sd1,sd2,gene_names,gf_rej=False,thrpars=2,thrmean=1,outlier_de=True,nuc=False,correct_off=False):\n",
        "    '''\n",
        "    Utilize different metrics to find fold-changes (FCs) between clusters in different SRs\n",
        "\n",
        "    sr1: SearchResults object 1 (single object)\n",
        "    sr2: SearchResults object 2\n",
        "    sd1: SearchData object for sr1\n",
        "    sd2: SearchData object for sr2\n",
        "    gene_names: list of gene names to compare between SRs\n",
        "    gf_rej: whether to use boolean list of rejected genes from both SRs\n",
        "    thrpars: FC threshold value (to call DE-theta genes)\n",
        "    thrmean: Mean S expression threshold value, for genes to consider\n",
        "    outlier_de: Use iterative outlier calling procedure to assign DE-theta genes (see Monod https://github.com/pachterlab/monod_examples/blob/main/Monod_demo.ipynb)\n",
        "    nuc: is this nuclear RNA data\n",
        "    correct_off: boolean to correct parameter offset with ODR\n",
        "    '''\n",
        "\n",
        "    all_filt_fcs = pd.DataFrame()\n",
        "    fcs,types,which_pair,highFC,spliceFC,g_names,out_de = ([] for i in range(7))\n",
        "\n",
        "    sr1 = sr1\n",
        "    sr2 = sr2\n",
        "\n",
        "    gfilt1 = [list(sr1.gene_names).index(i) for i in gene_names]\n",
        "    gfilt2 = [list(sr2.gene_names).index(i) for i in gene_names]\n",
        "\n",
        "    par_vals1 = np.copy(sr1.param_estimates[:,gfilt1,:])\n",
        "    par_vals2 = np.copy(sr2.param_estimates[:,gfilt2,:])\n",
        "\n",
        "    parnames = ('b','beta','gamma')\n",
        "\n",
        "    if correct_off:\n",
        "        param_names = sr1.model.get_log_name_str()\n",
        "        offsets = []\n",
        "        for k in range(len(param_names)):\n",
        "            m1 = par_vals1[0,:,k]\n",
        "            m2 = par_vals2[0,:,k]\n",
        "            offset = diffexp_fpi(m1,m2,param_names[k],viz=False)[1]\n",
        "            par_vals2[0,:,k] -= offset\n",
        "\n",
        "        fc_par = (par_vals1-par_vals2)/np.log10(2)\n",
        "    else:\n",
        "        fc_par = (par_vals1-par_vals2)/np.log10(2)  #Get FCs between cluster params\n",
        "\n",
        "    print('fc_par.shape: ',fc_par.shape)\n",
        "    if nuc:\n",
        "        fc_s_par = np.log2(sd1.layers[0][gfilt1,:].mean(1)/sd2.layers[0][gfilt2,:].mean(1)) #Get unspliced FCs\n",
        "    else:\n",
        "        fc_s_par = np.log2(sd1.layers[1][gfilt1,:].mean(1)/sd2.layers[1][gfilt2,:].mean(1)) #Get spliced FCs\n",
        "\n",
        "    print('fc_s_par.shape: ',fc_s_par.shape)\n",
        "\n",
        "    #Use outlier calling method to find DE genes\n",
        "    if outlier_de:\n",
        "        if len(sr1.gene_names) != len(sr2.gene_names):\n",
        "            print('Not running outlier DE. SRs need to have the same gene dimensions.')\n",
        "            par_bool_de = np.zeros((len(gene_names),len(parnames)))\n",
        "        else:\n",
        "            dr_analysis = monod.analysis.diffexp_pars(sr1,sr2,viz=True,modeltype='id',use_sigma=True)\n",
        "            par_bool_de = dr_analysis[1].T\n",
        "\n",
        "\n",
        "\n",
        "  #-----is parameter FC significant -----\n",
        "    if gf_rej is False:\n",
        "        gf_rej = [True]*(len(gfilt1))\n",
        "    else:\n",
        "        gf_rej = ~(sr1.rejected_genes[gfilt1]) & ~(sr2.rejected_genes[gfilt2])\n",
        "\n",
        "\n",
        "    for n in range(len(parnames)):\n",
        "        #Boolean for if large param FC and not rejected gene (with minimum expression)\n",
        "        if nuc:\n",
        "            gf_highnoise = (np.abs(fc_par[0,:,n])>thrpars)  \\\n",
        "                & ((sd1.layers[0][gfilt1,:].mean(1)>thrmean) | (sd2.layers[0][gfilt2,:].mean(1)>thrmean)) \\\n",
        "                & gf_rej\n",
        "        else:\n",
        "            gf_highnoise = (np.abs(fc_par[0,:,n])>thrpars)  \\\n",
        "                & ((sd1.layers[1][gfilt1,:].mean(1)>thrmean) | (sd2.layers[1][gfilt2,:].mean(1)>thrmean)) \\\n",
        "                & gf_rej\n",
        "\n",
        "        #Boolean for FC (above) but no FC detected at S-level\n",
        "        gf_highnoise_meanS = gf_highnoise & (np.abs(fc_s_par)<1) & gf_rej\n",
        "\n",
        "        #Boolean for FC (above)\n",
        "        gf_onlyhigh = gf_highnoise & gf_rej\n",
        "\n",
        "        #For dataframe\n",
        "        fcs += list(fc_par[0,gf_rej,n])\n",
        "        g_names += list(gene_names[gf_rej])\n",
        "        which_pair += [[1,2]]*np.sum(gf_rej)\n",
        "        highFC += list(gf_onlyhigh[gf_rej])\n",
        "        spliceFC += list(gf_highnoise_meanS[gf_rej])\n",
        "        types += [parnames[n]]*np.sum(gf_rej)\n",
        "        if outlier_de:\n",
        "            out_de += list(par_bool_de[gf_rej,n])\n",
        "\n",
        "    if outlier_de:\n",
        "        all_filt_fcs['deTheta_outlier'] = out_de\n",
        "\n",
        "    all_filt_fcs['log2FC'] = fcs\n",
        "    all_filt_fcs['gene'] = g_names\n",
        "    all_filt_fcs['cluster_pair'] = which_pair\n",
        "    all_filt_fcs['deTheta_FC'] = highFC\n",
        "    all_filt_fcs['deTheta_noDeMuS'] = spliceFC\n",
        "    all_filt_fcs['param'] = types\n",
        "\n",
        "    return all_filt_fcs\n"
      ],
      "metadata": {
        "id": "wCFfRrDr64Bh"
      },
      "execution_count": null,
      "outputs": []
    },
    {
      "cell_type": "code",
      "source": [
        "#Get params for each gene, which cluster it marks, and whether it's DE in any param\n",
        "def get_gene_DE(all_filt_fcs):\n",
        "    bs = all_filt_fcs[all_filt_fcs.param.isin(['b'])].log2FC\n",
        "    betas = all_filt_fcs[all_filt_fcs.param.isin(['beta'])].log2FC\n",
        "    gammas = all_filt_fcs[all_filt_fcs.param.isin(['gamma'])].log2FC\n",
        "    highFCs = np.array(all_filt_fcs[all_filt_fcs.param.isin(['b'])].deTheta_FC) | np.array(all_filt_fcs[all_filt_fcs.param.isin(['beta'])].deTheta_FC) | np.array(all_filt_fcs[all_filt_fcs.param.isin(['gamma'])].deTheta_FC)\n",
        "    noSpliceFCs = np.array(all_filt_fcs[all_filt_fcs.param.isin(['b'])].deTheta_noDeMuS) | np.array(all_filt_fcs[all_filt_fcs.param.isin(['beta'])].deTheta_noDeMuS) | np.array(all_filt_fcs[all_filt_fcs.param.isin(['gamma'])].deTheta_noDeMuS)\n",
        "\n",
        "    names = all_filt_fcs[all_filt_fcs.param.isin(['b'])].gene\n",
        "\n",
        "    dom = []\n",
        "    for i in range(len(noSpliceFCs)):\n",
        "        fc_b = list(all_filt_fcs[all_filt_fcs.param.isin(['b'])].iloc[[i]].log2FC)[0]\n",
        "        fc_beta = list(all_filt_fcs[all_filt_fcs.param.isin(['beta'])].iloc[[i]].log2FC)[0]\n",
        "        fc_gamma = list(all_filt_fcs[all_filt_fcs.param.isin(['gamma'])].iloc[[i]].log2FC)[0]\n",
        "\n",
        "        sig_b = list(np.array(all_filt_fcs[all_filt_fcs.param.isin(['b'])].iloc[[i]].deTheta_FC) | np.array(all_filt_fcs[all_filt_fcs.param.isin(['b'])].iloc[[i]].deTheta_noDeMuS))[0]\n",
        "        sig_beta = list(np.array(all_filt_fcs[all_filt_fcs.param.isin(['beta'])].iloc[[i]].deTheta_FC) | np.array(all_filt_fcs[all_filt_fcs.param.isin(['beta'])].iloc[[i]].deTheta_noDeMuS))[0]\n",
        "\n",
        "        sig_gamma = list(np.array(all_filt_fcs[all_filt_fcs.param.isin(['gamma'])].iloc[[i]].deTheta_FC) | np.array(all_filt_fcs[all_filt_fcs.param.isin(['gamma'])].iloc[[i]].deTheta_noDeMuS))[0]\n",
        "\n",
        "\n",
        "        pairs = list(all_filt_fcs[all_filt_fcs.param.isin(['b'])].iloc[[i]].cluster_pair)[0]\n",
        "\n",
        "# ----- Cell type 'marker' means increase in burst freq,burst,or splicing, or decrease in deg (increased 'stability') ----\n",
        "\n",
        "        #Increase in burst freq (not outweighted by burst size)\n",
        "        if (-1*fc_beta > 0 and sig_beta and -1*fc_gamma > 0 and sig_gamma) :\n",
        "            if (np.abs(fc_b) < np.abs(fc_beta)):\n",
        "                dom += [pairs[0]]\n",
        "            elif (fc_b > 0 and sig_b):\n",
        "                dom += [pairs[0]]\n",
        "            elif (fc_b < 0 and sig_b):\n",
        "                dom += [pairs[1]]\n",
        "            else:\n",
        "                dom += ['None']\n",
        "        elif (fc_beta > 0 and sig_beta and fc_gamma > 0 and sig_gamma) :\n",
        "            if (np.abs(fc_b) < np.abs(fc_beta)):\n",
        "                dom += [pairs[1]]\n",
        "            elif (fc_b > 0 and sig_b):\n",
        "                dom += ['None'] #don't know\n",
        "            elif (fc_b < 0 and sig_b):\n",
        "                dom += [pairs[1]]\n",
        "            else:\n",
        "                dom += ['None']\n",
        "        elif sig_b:\n",
        "            if np.abs(fc_b) > np.abs(fc_beta) and np.abs(fc_b) > np.abs(fc_gamma):\n",
        "                if fc_b > 0:\n",
        "                    dom += [pairs[0]]\n",
        "                else:\n",
        "                    dom += [pairs[1]]\n",
        "            elif np.abs(fc_b) < np.abs(fc_beta):\n",
        "                if fc_beta > 0:\n",
        "                    dom += [pairs[0]]\n",
        "                elif fc_beta < 0:\n",
        "                    dom += [pairs[1]]\n",
        "            elif np.abs(fc_b) < np.abs(fc_gamma):\n",
        "                if fc_gamma < 0:\n",
        "                    dom += [pairs[0]]\n",
        "                elif fc_gamma > 0:\n",
        "                    dom += [pairs[1]]\n",
        "            else:\n",
        "                dom += ['None']\n",
        "        elif (fc_beta > 0 and sig_beta):\n",
        "            dom += [pairs[0]]\n",
        "        elif (fc_gamma > 0 and sig_gamma): #individual FCs\n",
        "            dom += [pairs[1]]\n",
        "        elif  (fc_beta < 0 and sig_beta):\n",
        "            dom += [pairs[1]]\n",
        "        elif (fc_gamma < 0 and sig_gamma):\n",
        "            dom += [pairs[0]]\n",
        "        else:\n",
        "            dom += ['None']\n",
        "\n",
        "\n",
        "    return bs,-1*betas,-1*gammas,dom,highFCs,noSpliceFCs,names #-1 for plotting purposes"
      ],
      "metadata": {
        "id": "pRRQsPK3p-C0"
      },
      "execution_count": null,
      "outputs": []
    },
    {
      "cell_type": "code",
      "source": [
        "#Plot FCs of parameters between two clusters\n",
        "\n",
        "def plot_de(outs,names_plot,assign_colors,mark_plot=[],xpos=[],ypos=[],arrow=[],figsize=(10,4),betag=False,xlims=[-10,10],fname=None):\n",
        "    fig,ax = plt.subplots(1,2,figsize=figsize)\n",
        "\n",
        "    name_inds = [list(outs[6]).index(i) for i in names_plot]\n",
        "\n",
        "    labs = np.array(outs[3])\n",
        "    g=sns.scatterplot(x=list(outs[0][labs =='None']),y=list(outs[1][labs=='None']),\n",
        "                      hue=list(pd.Categorical(outs[3])[labs=='None']),\n",
        "                      palette=assign_colors,ax=ax[0],style=list(outs[5][labs=='None']),alpha=0.1,s=100,edgecolor='black')\n",
        "\n",
        "    sns.scatterplot(x=list(outs[0][(labs!='None')  &  (outs[5]==False)]),\n",
        "                    y=list(outs[1][(labs!='None') &  (outs[5]==False)]),\n",
        "                    hue=list(pd.Categorical(outs[3])[(labs!='None') &  (outs[5]==False)]),\n",
        "                      palette=assign_colors,ax=ax[0],marker='o',alpha=0.6,s=100,edgecolor='black')\n",
        "\n",
        "    sns.scatterplot(x=list(outs[0][(labs!='None')  &  (outs[5]==True)]),\n",
        "                    y=list(outs[1][(labs!='None')  &  (outs[5]==True)]),\n",
        "                    hue=list(pd.Categorical(outs[3])[(labs!='None')  &  (outs[5]==True)]),\n",
        "                      palette=assign_colors,ax=ax[0],marker='X',alpha=0.8,s=120,edgecolor='black')\n",
        "\n",
        "    #Annotate genes\n",
        "    for n in range(len(names_plot)):\n",
        "        x=list(outs[0])[name_inds[n]]\n",
        "        y=list(outs[1])[name_inds[n]]\n",
        "        h=[pd.Categorical(outs[3])[name_inds[n]]]\n",
        "        if_x=list(outs[5])[name_inds[n]]\n",
        "\n",
        "        if if_x:\n",
        "            shape = 'X'\n",
        "        else:\n",
        "            shape = 'o'\n",
        "\n",
        "        if arrow[n]:\n",
        "            #Replot, so annotated points show up on top\n",
        "            sns.scatterplot(x=x,\n",
        "                    y=y,\n",
        "                    hue=h,\n",
        "                      palette=assign_colors,ax=ax[0],marker=shape,alpha=0.8,s=120,edgecolor='black',\n",
        "                           legend=False)\n",
        "\n",
        "            ax[0].annotate(names_plot[n], (x, y), fontsize=14,\n",
        "                           xytext=(x+xpos[n],y+ypos[n]),weight=\"bold\", color=assign_colors[mark_plot[n]],\n",
        "                       arrowprops = dict(facecolor=assign_colors[mark_plot[n]],\n",
        "                                         arrowstyle=\"-|>\",connectionstyle=\"angle3,angleA=0,angleB=-90\",lw=0.4))\n",
        "        else:\n",
        "            #Replot, so annotated points show up on top\n",
        "            sns.scatterplot(x=x,\n",
        "                    y=y,\n",
        "                    hue=h,\n",
        "                      palette=assign_colors,ax=ax[0],marker=shape,alpha=0.8,s=120,edgecolor='black',\n",
        "                           legend=False)\n",
        "\n",
        "            ax[0].annotate(names_plot[n], (x, y),fontsize=14,\n",
        "                           xytext=(x+xpos[n], y+ypos[n]),color=assign_colors[mark_plot[n]],weight=\"bold\")\n",
        "\n",
        "    sns.move_legend(g, \"upper left\", bbox_to_anchor=(1, 1))\n",
        "\n",
        "    xl =np.asarray([xlims[0],xlims[1]])\n",
        "    xlx = [xl[0],xl[1]]\n",
        "    xly = [xl[0],xl[1]]\n",
        "    ax[0].set_xlim(xlx)\n",
        "    ax[0].set_ylim(xly)\n",
        "\n",
        "    ax[0].plot(xl,-xl,'--',linewidth=2.5,c='crimson',alpha=0.3)\n",
        "\n",
        "    ax[0].set_xlabel(r'$\\log_{2}$FC $b$ ',fontsize=14)\n",
        "    ax[0].set_ylabel(r'$-\\log_{2}$FC $\\beta$ ',fontsize=14)\n",
        "\n",
        "    ax[0].tick_params(axis='both', which='major', labelsize=14,)\n",
        "\n",
        "\n",
        "\n",
        "\n",
        "    if betag == False:\n",
        "        labs = np.array(outs[3])\n",
        "        g=sns.scatterplot(x=list(outs[0][labs =='None']),y=list(outs[2][labs=='None']),\n",
        "                          hue=list(pd.Categorical(outs[3])[labs=='None']),\n",
        "                          palette=assign_colors,ax=ax[1],style=list(outs[5][labs=='None']),alpha=0.1,s=100,edgecolor='black')\n",
        "\n",
        "        sns.scatterplot(x=list(outs[0][(labs!='None')  &  (outs[5]==False)]),\n",
        "                        y=list(outs[2][(labs!='None')  &  (outs[5]==False)]),\n",
        "                        hue=list(pd.Categorical(outs[3])[(labs!='None')  &  (outs[5]==False)]),\n",
        "                          palette=assign_colors,ax=ax[1],marker='o',alpha=0.6\n",
        "                        ,s=100,edgecolor='black')\n",
        "\n",
        "\n",
        "        sns.scatterplot(x=list(outs[0][(labs!='None')  &  (outs[5]==True)]),\n",
        "                        y=list(outs[2][(labs!='None')  &  (outs[5]==True)]),\n",
        "                        hue=list(pd.Categorical(outs[3])[(labs!='None')  &  (outs[5]==True)]),\n",
        "                          palette=assign_colors,ax=ax[1],marker='X',\n",
        "                        alpha=0.8,s=120,edgecolor='black')\n",
        "        #Annotate genes\n",
        "        for n in range(len(names_plot)):\n",
        "            x=list(outs[0])[name_inds[n]]\n",
        "            y=list(outs[2])[name_inds[n]]\n",
        "            h=[pd.Categorical(outs[3])[name_inds[n]]]\n",
        "            if_x=list(outs[5])[name_inds[n]]\n",
        "\n",
        "            if if_x:\n",
        "                shape = 'X'\n",
        "            else:\n",
        "                shape = 'o'\n",
        "\n",
        "            if arrow[n]:\n",
        "                #Replot, so annotated points show up on top\n",
        "                sns.scatterplot(x=x,\n",
        "                        y=y,\n",
        "                        hue=h,\n",
        "                          palette=assign_colors,ax=ax[1],marker=shape,alpha=0.8,s=100,edgecolor='black',\n",
        "                               legend=False)\n",
        "\n",
        "                ax[1].annotate(names_plot[n], (x, y), fontsize=14,\n",
        "                               xytext=(x+xpos[n], y+ypos[n]),weight=\"bold\", color=assign_colors[mark_plot[n]],\n",
        "                           arrowprops = dict(facecolor=assign_colors[mark_plot[n]],\n",
        "                                             arrowstyle=\"-|>\",connectionstyle=\"angle3,angleA=0,angleB=-90\",\n",
        "                                             lw=0.4,))\n",
        "            else:\n",
        "                #Replot, so annotated points show up on top\n",
        "                sns.scatterplot(x=x,\n",
        "                        y=y,\n",
        "                        hue=h,\n",
        "                          palette=assign_colors,ax=ax[1],marker=shape,alpha=0.8,s=120,edgecolor='black',\n",
        "                               legend=False)\n",
        "\n",
        "                ax[1].annotate(names_plot[n], (x, y), fontsize=14,\n",
        "                               xytext=(x+xpos[n], y+ypos[n]),color=assign_colors[mark_plot[n]],weight=\"bold\")\n",
        "\n",
        "\n",
        "        sns.move_legend(g, \"upper left\", bbox_to_anchor=(1, 1))\n",
        "\n",
        "        xl =np.asarray([xlims[0],xlims[1]])\n",
        "        xlx = [xl[0],xl[1]]\n",
        "        xly = [xl[0],xl[1]]\n",
        "        ax[1].set_xlim(xlx)\n",
        "        ax[1].set_ylim(xly)\n",
        "\n",
        "        ax[1].plot(xl,-xl,'--',linewidth=2.5,c='crimson',alpha=0.3)\n",
        "\n",
        "        ax[1].set_xlabel(r'$\\log_{2}$FC $b$ ',fontsize=14)\n",
        "        ax[1].set_ylabel(r'$-\\log_{2}$FC $\\gamma$ ',fontsize=14)\n",
        "\n",
        "        ax[1].tick_params(axis='both', which='major', labelsize=14,)\n",
        "    else:\n",
        "        labs = np.array(outs[3])\n",
        "        g=sns.scatterplot(x=list(outs[1][labs =='None']),y=list(outs[2][labs=='None']),\n",
        "                          hue=list(pd.Categorical(outs[3])[labs=='None']),\n",
        "                          palette=assign_colors,ax=ax[1],style=list(outs[5][labs=='None']),alpha=0.1,s=100,edgecolor='black')\n",
        "\n",
        "        sns.scatterplot(x=list(outs[1][(labs!='None')  &  (outs[5]==False)]),\n",
        "                        y=list(outs[2][(labs!='None')  &  (outs[5]==False)]),\n",
        "                        hue=list(pd.Categorical(outs[3])[(labs!='None')  &  (outs[5]==False)]),\n",
        "                          palette=assign_colors,ax=ax[1],marker='o',alpha=0.6\n",
        "                        ,s=100,edgecolor='black')\n",
        "\n",
        "\n",
        "        sns.scatterplot(x=list(outs[1][(labs!='None')  &  (outs[5]==True)]),\n",
        "                        y=list(outs[2][(labs!='None')  &  (outs[5]==True)]),\n",
        "                        hue=list(pd.Categorical(outs[3])[(labs!='None')  &  (outs[5]==True)]),\n",
        "                          palette=assign_colors,ax=ax[1],marker='X',\n",
        "                        alpha=0.8,s=120,edgecolor='black')\n",
        "        #Annotate genes\n",
        "        for n in range(len(names_plot)):\n",
        "            x=list(outs[1])[name_inds[n]]\n",
        "            y=list(outs[2])[name_inds[n]]\n",
        "            h=[pd.Categorical(outs[3])[name_inds[n]]]\n",
        "            if_x=list(outs[5])[name_inds[n]]\n",
        "\n",
        "            if if_x:\n",
        "                shape = 'X'\n",
        "            else:\n",
        "                shape = 'o'\n",
        "\n",
        "\n",
        "            if arrow[n]:\n",
        "                #Replot, so annotated points show up on top\n",
        "                sns.scatterplot(x=x,\n",
        "                        y=y,\n",
        "                        hue=h,\n",
        "                          palette=assign_colors,ax=ax[1],marker=shape,alpha=0.8,s=120,edgecolor='black',\n",
        "                               legend=False)\n",
        "\n",
        "                ax[1].annotate(names_plot[n], (x, y), fontsize=14,\n",
        "                               xytext=(x+xpos[n], y+ypos[n]),weight=\"bold\", color=assign_colors[mark_plot[n]],\n",
        "                           arrowprops = dict(facecolor=assign_colors[mark_plot[n]],\n",
        "                                             arrowstyle=\"-|>\",connectionstyle=\"angle3,angleA=0,angleB=-90\",\n",
        "                                             lw=0.4,))\n",
        "            else:\n",
        "                #Replot, so annotated points show up on top\n",
        "                sns.scatterplot(x=x,\n",
        "                        y=y,\n",
        "                        hue=h,\n",
        "                          palette=assign_colors,ax=ax[1],marker=shape,alpha=0.8,s=120,edgecolor='black',\n",
        "                               legend=False)\n",
        "\n",
        "                ax[1].annotate(names_plot[n], (x, y), fontsize=14,\n",
        "                               xytext=(x+xpos[n], y+ypos[n]),color=assign_colors[mark_plot[n]],weight=\"bold\")\n",
        "\n",
        "\n",
        "\n",
        "        sns.move_legend(g, \"upper left\", bbox_to_anchor=(1, 1))\n",
        "\n",
        "        xl =np.asarray([xlims[0],xlims[1]])\n",
        "        xlx = [xl[0],xl[1]]\n",
        "        xly = [xl[0],xl[1]]\n",
        "        ax[1].set_xlim(xlx)\n",
        "        ax[1].set_ylim(xly)\n",
        "\n",
        "        ax[1].plot(xl,xl,'--',linewidth=2.5,c='crimson',alpha=0.3)\n",
        "\n",
        "        ax[1].set_xlabel(r'$-\\log_{2}$FC $\\beta$ ',fontsize=14)\n",
        "        ax[1].set_ylabel(r'$-\\log_{2}$FC $\\gamma$ ',fontsize=14)\n",
        "\n",
        "        ax[1].tick_params(axis='both', which='major', labelsize=14,)\n",
        "\n",
        "\n",
        "    plt.tight_layout()\n",
        "    if fname is None:\n",
        "        plt.show()\n",
        "    else:\n",
        "        plt.savefig(fname)\n",
        "\n"
      ],
      "metadata": {
        "id": "MgzZX9wZrvh7"
      },
      "execution_count": null,
      "outputs": []
    },
    {
      "cell_type": "code",
      "source": [],
      "metadata": {
        "id": "UUFOQcgYp-FN"
      },
      "execution_count": null,
      "outputs": []
    },
    {
      "cell_type": "code",
      "source": [
        "#Get all DE-theta genes and the corresponding params\n",
        "gene_names = sr_arr[0].gene_names\n",
        "all_de_theta = make_fcs_srs(sr_arr[0],sr_arr[1],sd_arr[0],sd_arr[1],gene_names,gf_rej=True,thrpars=2,thrmean=0.1,correct_off=True)\n",
        "all_de_theta.head()\n",
        "\n",
        "#Can save this output to a csv\n",
        "all_de_theta.to_csv('day0vs3_detheta_res.csv',index=None)"
      ],
      "metadata": {
        "id": "AT0SfvFK64Eg"
      },
      "execution_count": null,
      "outputs": []
    },
    {
      "cell_type": "code",
      "source": [
        "#Assign DE genes as a marker to first or second results object (Day 0 or 3 marker)\n",
        "out_marks = get_gene_DE(test)\n",
        "\n",
        "ctrl_palette = {1:'#b7410e',2:'#f4db9d','None':'lightgrey'} #1 - Day 0, 2 - Day 3\n",
        "\n",
        "#Example code to plot gene names\n",
        "# names_plot = ['ITGA6','NEXN','ACSS2']\n",
        "# mark_plot = [2,'None',1,]\n",
        "# xpos = [-8,3,1,]\n",
        "# ypos = [-4.5,1.5,7]\n",
        "# arrow = [True,True,True,]\n",
        "\n",
        "\n",
        "plot_de(out_marks,\n",
        "        assign_colors=ctrl_palette,\n",
        "        figsize=(10,3.5),fname='Day0_vsDay3.pdf')\n",
        "\n"
      ],
      "metadata": {
        "id": "Teq6btwB64HK"
      },
      "execution_count": null,
      "outputs": []
    }
  ]
}