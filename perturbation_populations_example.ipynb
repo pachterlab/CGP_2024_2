{
  "nbformat": 4,
  "nbformat_minor": 0,
  "metadata": {
    "colab": {
      "provenance": [],
      "authorship_tag": "ABX9TyMS7AxJmjzXdMbPQfukpigH",
      "include_colab_link": true
    },
    "kernelspec": {
      "name": "python3",
      "display_name": "Python 3"
    },
    "language_info": {
      "name": "python"
    }
  },
  "cells": [
    {
      "cell_type": "markdown",
      "metadata": {
        "id": "view-in-github",
        "colab_type": "text"
      },
      "source": [
        "<a href=\"https://colab.research.google.com/github/pachterlab/CGP_2024_2/blob/main/perturbation_populations_example.ipynb\" target=\"_parent\"><img src=\"https://colab.research.google.com/assets/colab-badge.svg\" alt=\"Open In Colab\"/></a>"
      ]
    },
    {
      "cell_type": "markdown",
      "source": [
        "**In this notebook we will cluster the nascent and mature mRNA counts from drug-tolerant (DT) PC9 cells, to identify resistant populations of cells. This demonstrates how to cluster perturbation data, and identify multiple perturbed populations even within the same condition.**"
      ],
      "metadata": {
        "id": "-ejJd0qU4vj1"
      }
    },
    {
      "cell_type": "markdown",
      "source": [
        "## **Read in data and metadata**"
      ],
      "metadata": {
        "id": "wlxbKawo5COw"
      }
    },
    {
      "cell_type": "code",
      "source": [
        "#Install\n",
        "!pip install --quiet monod\n",
        "!pip install -U --quiet loompy\n"
      ],
      "metadata": {
        "id": "ZM7HZNJqVqKm",
        "outputId": "b0866e68-72d4-4b24-a75a-c53833d600fb",
        "colab": {
          "base_uri": "https://localhost:8080/"
        }
      },
      "execution_count": 1,
      "outputs": [
        {
          "output_type": "stream",
          "name": "stdout",
          "text": [
            "\u001b[2K     \u001b[90m━━━━━━━━━━━━━━━━━━━━━━━━━━━━━━━━━━━━━━━━\u001b[0m \u001b[32m64.6/64.6 kB\u001b[0m \u001b[31m598.8 kB/s\u001b[0m eta \u001b[36m0:00:00\u001b[0m\n",
            "\u001b[2K     \u001b[90m━━━━━━━━━━━━━━━━━━━━━━━━━━━━━━━━━━━━━━━━\u001b[0m \u001b[32m100.2/100.2 kB\u001b[0m \u001b[31m1.7 MB/s\u001b[0m eta \u001b[36m0:00:00\u001b[0m\n",
            "\u001b[2K     \u001b[90m━━━━━━━━━━━━━━━━━━━━━━━━━━━━━━━━━━━━━━━━\u001b[0m \u001b[32m124.4/124.4 kB\u001b[0m \u001b[31m5.2 MB/s\u001b[0m eta \u001b[36m0:00:00\u001b[0m\n",
            "\u001b[2K     \u001b[90m━━━━━━━━━━━━━━━━━━━━━━━━━━━━━━━━━━━━━━━━\u001b[0m \u001b[32m4.8/4.8 MB\u001b[0m \u001b[31m18.3 MB/s\u001b[0m eta \u001b[36m0:00:00\u001b[0m\n",
            "\u001b[?25h  Preparing metadata (setup.py) ... \u001b[?25l\u001b[?25hdone\n",
            "\u001b[2K     \u001b[90m━━━━━━━━━━━━━━━━━━━━━━━━━━━━━━━━━━━━━━━━\u001b[0m \u001b[32m40.5/40.5 kB\u001b[0m \u001b[31m2.3 MB/s\u001b[0m eta \u001b[36m0:00:00\u001b[0m\n",
            "\u001b[?25h  Building wheel for loompy (setup.py) ... \u001b[?25l\u001b[?25hdone\n"
          ]
        }
      ]
    },
    {
      "cell_type": "code",
      "source": [
        "!pip install --quiet anndata"
      ],
      "metadata": {
        "id": "y6ZqmBHpFKNi"
      },
      "execution_count": 2,
      "outputs": []
    },
    {
      "cell_type": "code",
      "source": [
        "!pip install --quiet scanpy"
      ],
      "metadata": {
        "id": "FhoZjpmd3v0W",
        "outputId": "831591eb-d062-48ae-ff6c-a88d6b267323",
        "colab": {
          "base_uri": "https://localhost:8080/"
        }
      },
      "execution_count": 3,
      "outputs": [
        {
          "output_type": "stream",
          "name": "stdout",
          "text": [
            "\u001b[2K     \u001b[90m━━━━━━━━━━━━━━━━━━━━━━━━━━━━━━━━━━━━━━━━\u001b[0m \u001b[32m2.1/2.1 MB\u001b[0m \u001b[31m1.8 MB/s\u001b[0m eta \u001b[36m0:00:00\u001b[0m\n",
            "\u001b[2K     \u001b[90m━━━━━━━━━━━━━━━━━━━━━━━━━━━━━━━━━━━━━━━━\u001b[0m \u001b[32m56.9/56.9 kB\u001b[0m \u001b[31m2.0 MB/s\u001b[0m eta \u001b[36m0:00:00\u001b[0m\n",
            "\u001b[?25h  Preparing metadata (setup.py) ... \u001b[?25l\u001b[?25hdone\n",
            "\u001b[2K     \u001b[90m━━━━━━━━━━━━━━━━━━━━━━━━━━━━━━━━━━━━━━━━\u001b[0m \u001b[32m85.7/85.7 kB\u001b[0m \u001b[31m2.9 MB/s\u001b[0m eta \u001b[36m0:00:00\u001b[0m\n",
            "\u001b[2K     \u001b[90m━━━━━━━━━━━━━━━━━━━━━━━━━━━━━━━━━━━━━━━━\u001b[0m \u001b[32m79.8/79.8 kB\u001b[0m \u001b[31m2.7 MB/s\u001b[0m eta \u001b[36m0:00:00\u001b[0m\n",
            "\u001b[?25h  Building wheel for session-info (setup.py) ... \u001b[?25l\u001b[?25hdone\n"
          ]
        }
      ]
    },
    {
      "cell_type": "code",
      "source": [
        "#gene length annotation\n",
        "!wget --content-disposition https://github.com/pachterlab/CGP_2024_2/raw/main/reference/gg_200525_genome_polyA_cum_3\n",
        "\n",
        "#loom files\n"
      ],
      "metadata": {
        "id": "ullkAFGbVqKo",
        "outputId": "ced57bd9-6313-46fe-d14a-368afd20052c",
        "colab": {
          "base_uri": "https://localhost:8080/"
        }
      },
      "execution_count": 4,
      "outputs": [
        {
          "output_type": "stream",
          "name": "stdout",
          "text": [
            "--2024-07-05 03:06:50--  https://github.com/pachterlab/CGP_2024_2/raw/main/reference/gg_200525_genome_polyA_cum_3\n",
            "Resolving github.com (github.com)... 140.82.113.3\n",
            "Connecting to github.com (github.com)|140.82.113.3|:443... connected.\n",
            "HTTP request sent, awaiting response... 302 Found\n",
            "Location: https://raw.githubusercontent.com/pachterlab/CGP_2024_2/main/reference/gg_200525_genome_polyA_cum_3 [following]\n",
            "--2024-07-05 03:06:51--  https://raw.githubusercontent.com/pachterlab/CGP_2024_2/main/reference/gg_200525_genome_polyA_cum_3\n",
            "Resolving raw.githubusercontent.com (raw.githubusercontent.com)... 185.199.109.133, 185.199.110.133, 185.199.111.133, ...\n",
            "Connecting to raw.githubusercontent.com (raw.githubusercontent.com)|185.199.109.133|:443... connected.\n",
            "HTTP request sent, awaiting response... 200 OK\n",
            "Length: 9325163 (8.9M) [text/plain]\n",
            "Saving to: ‘gg_200525_genome_polyA_cum_3’\n",
            "\n",
            "gg_200525_genome_po 100%[===================>]   8.89M  --.-KB/s    in 0.1s    \n",
            "\n",
            "2024-07-05 03:06:51 (91.1 MB/s) - ‘gg_200525_genome_polyA_cum_3’ saved [9325163/9325163]\n",
            "\n"
          ]
        }
      ]
    },
    {
      "cell_type": "code",
      "execution_count": 17,
      "metadata": {
        "id": "uaATgUR3VqKp",
        "outputId": "443a5447-7093-4145-c224-0053b7f098cc",
        "colab": {
          "base_uri": "https://localhost:8080/"
        }
      },
      "outputs": [
        {
          "output_type": "stream",
          "name": "stderr",
          "text": [
            "/usr/local/lib/python3.10/dist-packages/ipykernel/ipkernel.py:283: DeprecationWarning: `should_run_async` will not call `transform_cell` automatically in the future. Please pass the result to `transformed_cell` argument and any exception that happen during thetransform in `preprocessing_exc_tuple` in IPython 7.17 and above.\n",
            "  and should_run_async(code)\n",
            "<frozen importlib._bootstrap>:914: ImportWarning: _PyDrive2ImportHook.find_spec() not found; falling back to find_module()\n",
            "<frozen importlib._bootstrap>:914: ImportWarning: _PyDriveImportHook.find_spec() not found; falling back to find_module()\n",
            "<frozen importlib._bootstrap>:914: ImportWarning: _GenerativeAIImportHook.find_spec() not found; falling back to find_module()\n",
            "<frozen importlib._bootstrap>:914: ImportWarning: _OpenCVImportHook.find_spec() not found; falling back to find_module()\n",
            "<frozen importlib._bootstrap>:914: ImportWarning: APICoreClientInfoImportHook.find_spec() not found; falling back to find_module()\n",
            "<frozen importlib._bootstrap>:914: ImportWarning: _BokehImportHook.find_spec() not found; falling back to find_module()\n",
            "<frozen importlib._bootstrap>:914: ImportWarning: _AltairImportHook.find_spec() not found; falling back to find_module()\n"
          ]
        }
      ],
      "source": [
        "import monod\n",
        "from monod import preprocess, extract_data, cme_toolbox, inference, analysis, mminference"
      ]
    },
    {
      "cell_type": "code",
      "source": [
        "import pandas as pd\n",
        "import numpy as np\n",
        "import loompy as lp\n",
        "import matplotlib.pyplot as plt\n",
        "import scipy\n",
        "import seaborn as sns\n",
        "import scipy.stats\n",
        "\n",
        "import random\n",
        "import glob\n",
        "import os"
      ],
      "metadata": {
        "id": "ywYiYUzMFNNM"
      },
      "execution_count": 6,
      "outputs": []
    },
    {
      "cell_type": "code",
      "execution_count": 7,
      "metadata": {
        "id": "dBMDbeoszvXe"
      },
      "outputs": [],
      "source": [
        "import anndata\n",
        "import scanpy as sc"
      ]
    },
    {
      "cell_type": "code",
      "source": [],
      "metadata": {
        "id": "T9vH0GiV5SP-"
      },
      "execution_count": 7,
      "outputs": []
    },
    {
      "cell_type": "code",
      "source": [],
      "metadata": {
        "id": "ONqV9kmV5SSb"
      },
      "execution_count": 7,
      "outputs": []
    },
    {
      "cell_type": "markdown",
      "source": [
        "## **Clustering of drug-tolerant cells into populations**"
      ],
      "metadata": {
        "id": "IWrUY_ks6nno"
      }
    },
    {
      "cell_type": "markdown",
      "source": [
        "Select gene for inference"
      ],
      "metadata": {
        "id": "amRf9_PjWVgW"
      }
    },
    {
      "cell_type": "code",
      "source": [
        "#Threshold for filtering genes based on expression patterns\n",
        "def nb_thresh(U,S,var_t = 1.5,u_min =0.02,s_min =0.02):\n",
        "    '''\n",
        "    Take in U,S matrices, and find genes that meet var/mean thresh\n",
        "    U,S are cellxgene\n",
        "    '''\n",
        "    var_threshold = var_t\n",
        "    U_mean = U.mean(0)\n",
        "    S_mean = S.mean(0)\n",
        "    U_var = U.var(0)\n",
        "    S_var = S.var(0)\n",
        "\n",
        "    #if l == '/home/tchari/counts/allen_bivi/loom/processed_allen_B02H01A02_raw.loom':\n",
        "    u_min = u_min\n",
        "    s_min =  s_min\n",
        "\n",
        "\n",
        "    fitted_idx = (U_mean > u_min) & (S_mean > s_min) \\\n",
        "    & (((U_var-U_mean)/(U_mean**2)) > var_threshold)\\\n",
        "    & (((S_var-S_mean)/(S_mean**2)) > var_threshold)\\\n",
        "    & (np.abs(np.log(S_mean/U_mean)) < 4)\n",
        "    #((U_mean/S_mean) > 1.0) #labeled mRNA (new synth) is mainly intronic counts\n",
        "\n",
        "    #(np.abs(np.log(S_mean/U_mean)) < 4)\n",
        "\n",
        "\n",
        "    return fitted_idx"
      ],
      "metadata": {
        "id": "nJFDH61QBh15"
      },
      "execution_count": 8,
      "outputs": []
    },
    {
      "cell_type": "code",
      "source": [
        "#Get full count matrices and barcodes\n",
        "ds = lp.connect('./all_cancer_dt_sub2.loom')\n",
        "U = ds.layers['unspliced'][:].T\n",
        "S = ds.layers['spliced'][:].T\n",
        "bars = ds.ca['barcode']\n",
        "g_names = ds.ra['gene_name']\n",
        "ds.close()"
      ],
      "metadata": {
        "id": "K7hvo2AD6zA7"
      },
      "execution_count": 9,
      "outputs": []
    },
    {
      "cell_type": "code",
      "source": [],
      "metadata": {
        "id": "D9beqtukW26d"
      },
      "execution_count": 9,
      "outputs": []
    },
    {
      "cell_type": "code",
      "source": [],
      "metadata": {
        "id": "AM04BLvB63-h"
      },
      "execution_count": 9,
      "outputs": []
    },
    {
      "cell_type": "code",
      "source": [],
      "metadata": {
        "id": "4jiNh1tVXErm"
      },
      "execution_count": 9,
      "outputs": []
    },
    {
      "cell_type": "code",
      "source": [
        "#Get Highly Variable Genes (HVGs) using 'standard' procedure for scRNAseq data\n",
        "\n",
        "adata = anndata.AnnData(X=S)\n",
        "adata.layers[\"counts\"] = adata.X.copy()  # preserve counts\n",
        "sc.pp.normalize_total(adata, target_sum=1e4)\n",
        "sc.pp.log1p(adata)\n",
        "adata.raw = adata\n",
        "sc.pp.highly_variable_genes(adata, n_top_genes=2000)\n",
        "g_filt_hvg = adata.var.highly_variable"
      ],
      "metadata": {
        "id": "EN0wlHWmXEt1"
      },
      "execution_count": 10,
      "outputs": []
    },
    {
      "cell_type": "code",
      "source": [
        "#Filter for overdispersed *and* enough U/S counts for clustering\n",
        "g_filt = nb_thresh(U,S)\n",
        "\n",
        "\n",
        "final_filt =  g_filt_hvg & g_filt #Filter for hvgs that meet expression thresholds\n",
        "final_names = g_names[final_filt]\n"
      ],
      "metadata": {
        "id": "DgjEBKQIXwsF",
        "outputId": "8911e5cd-54d4-46f4-a2ea-7e132a4aa280",
        "colab": {
          "base_uri": "https://localhost:8080/"
        }
      },
      "execution_count": 11,
      "outputs": [
        {
          "output_type": "stream",
          "name": "stderr",
          "text": [
            "<ipython-input-8-4fceaa47b944>:19: RuntimeWarning: invalid value encountered in divide\n",
            "  & (((U_var-U_mean)/(U_mean**2)) > var_threshold)\\\n",
            "<ipython-input-8-4fceaa47b944>:21: RuntimeWarning: divide by zero encountered in divide\n",
            "  & (np.abs(np.log(S_mean/U_mean)) < 4)\n"
          ]
        }
      ]
    },
    {
      "cell_type": "code",
      "source": [
        "print('No. genes selected: ',np.sum(final_filt))"
      ],
      "metadata": {
        "id": "VO9hNW9XXwuk",
        "outputId": "6d4d60b4-758d-483b-f24f-8bb556f045c3",
        "colab": {
          "base_uri": "https://localhost:8080/"
        }
      },
      "execution_count": 12,
      "outputs": [
        {
          "output_type": "stream",
          "name": "stdout",
          "text": [
            "No. genes selected:  53\n"
          ]
        }
      ]
    },
    {
      "cell_type": "markdown",
      "source": [
        "**Run meK-Means clustering on unspliced and spliced counts**"
      ],
      "metadata": {
        "id": "p99A2N-aWYRi"
      }
    },
    {
      "cell_type": "code",
      "source": [
        "l = './all_cancer_dt_sub2.loom'\n",
        "\n",
        "transcriptome_filepath = './gg_200525_genome_polyA_cum_3'\n",
        "\n",
        "spliced_layer = 'spliced'\n",
        "unspliced_layer = 'unspliced'\n",
        "gene_attr = 'gene_name'\n",
        "cell_attr = 'barcode'\n",
        "\n",
        "attribute_names=[(unspliced_layer,spliced_layer),gene_attr,cell_attr]"
      ],
      "metadata": {
        "id": "wCFfRrDr64Bh"
      },
      "execution_count": 13,
      "outputs": []
    },
    {
      "cell_type": "code",
      "source": [
        "#Set up files for meK-Means with different possible K values\n",
        "Ks= [2,5,10]\n",
        "all_looms = [l]*len(Ks)\n",
        "\n",
        "data_names = ['Day3_k_'+str(i) for i in Ks]\n",
        "print(data_names)"
      ],
      "metadata": {
        "id": "AT0SfvFK64Eg",
        "outputId": "ca425179-ccbe-45a5-c4af-335981651838",
        "colab": {
          "base_uri": "https://localhost:8080/"
        }
      },
      "execution_count": 14,
      "outputs": [
        {
          "output_type": "stream",
          "name": "stdout",
          "text": [
            "['Day3_k_2', 'Day3_k_5', 'Day3_k_10']\n"
          ]
        }
      ]
    },
    {
      "cell_type": "code",
      "source": [
        "result_strings = []\n",
        "\n",
        "#Use Filtered genes that meet thresholds and are in literature\n",
        "\n",
        "\n",
        "#Define bounds for params\n",
        "phys_lb = [-2.0, -1.8, -1.8]\n",
        "phys_ub = [4.2, 2.5, 2.5]\n",
        "samp_lb = [-7.333333333333333, -1.25]\n",
        "samp_ub = [-7.333333333333333, -1.25]\n",
        "gridsize = [1,1] #Already have tech params\n",
        "\n",
        "epochs = 10\n",
        "\n",
        "#Set up files for Monod, fit for previously selected genes\n",
        "dir_string,dataset_string = monod.preprocess.construct_batch(all_looms, \\\n",
        "                                         transcriptome_filepath, \\\n",
        "                                         data_names, \\\n",
        "                                         attribute_names=attribute_names,\\\n",
        "                                         batch_location='./',\\\n",
        "                                         meta='Day3_DT',batch_id=1,\\\n",
        "                                         n_genes=len(final_names),exp_filter_threshold=None,\n",
        "                                         viz=False,genes_to_fit=final_names,cf=None)\n",
        "\n"
      ],
      "metadata": {
        "id": "Teq6btwB64HK",
        "outputId": "58e0dc40-42c5-4375-baa2-e9722d04d2d4",
        "colab": {
          "base_uri": "https://localhost:8080/"
        }
      },
      "execution_count": 15,
      "outputs": [
        {
          "output_type": "stream",
          "name": "stderr",
          "text": [
            "WARNING:root:Gene HIST1H4H not found or has multiple entries in annotations.\n",
            "WARNING:root:Selecting 53 genes required 100.0% dataset threshold.\n"
          ]
        }
      ]
    },
    {
      "cell_type": "code",
      "source": [
        "# ---------------- meK-Means Inference ----------------\n",
        "for x in range(len(dataset_string)):\n",
        "    #Define model with bursty transcription and Poisson molecule capture/sampling\n",
        "    fitmodel = monod.cme_toolbox.CMEModel('Bursty','Poisson')\n",
        "\n",
        "    #Set up mminference parameters\n",
        "    inference_parameters = monod.mminference.InferenceParameters(phys_lb,phys_ub,samp_lb,samp_ub,gridsize,\\\n",
        "                dataset_string[x],fitmodel,k=Ks[x], epochs=epochs ,use_lengths = True,\n",
        "                gradient_params = {'max_iterations':5,'init_pattern':'moments','num_restarts':1})\n",
        "\n",
        "    #Read in loom file with filtered barcodes\n",
        "    search_data = monod.extract_data.extract_data(all_looms[x], transcriptome_filepath, data_names[x],\n",
        "                dataset_string[x], dir_string, viz=False, dataset_attr_names=attribute_names,cf=None)\n",
        "\n",
        "    #Run inference(fit_all_grid_points()) and Save result file strings\n",
        "    full_result_string = inference_parameters.fit_all_grid_points(1,search_data)\n",
        "\n",
        "    result_strings.append(full_result_string)\n",
        "    print('Result: ',full_result_string)\n"
      ],
      "metadata": {
        "id": "LsOOUjeaHPU0",
        "outputId": "8098f4c7-d311-498a-edda-0adbe68b9d02",
        "colab": {
          "base_uri": "https://localhost:8080/"
        }
      },
      "execution_count": 18,
      "outputs": [
        {
          "metadata": {
            "tags": null
          },
          "name": "stderr",
          "output_type": "stream",
          "text": [
            "/usr/local/lib/python3.10/dist-packages/monod/mminference.py:513: RuntimeWarning: divide by zero encountered in divide\n",
            "  divids = (1e4/tots)[:,None]\n",
            "/usr/local/lib/python3.10/dist-packages/monod/mminference.py:514: RuntimeWarning: invalid value encountered in multiply\n",
            "  S_t = S_t*divids\n",
            "/usr/local/lib/python3.10/dist-packages/sklearn/cluster/_kmeans.py:870: FutureWarning: The default value of `n_init` will change from 10 to 'auto' in 1.4. Set the value of `n_init` explicitly to suppress the warning\n",
            "  warnings.warn(\n"
          ]
        },
        {
          "metadata": {
            "tags": null
          },
          "name": "stdout",
          "output_type": "stream",
          "text": [
            "mstep self.weights:  [0.5819275 0.4180725]\n",
            "Q Function:  -318072.8163304506\n",
            "\n",
            "mstep self.weights:  [0.58504681 0.41495319]\n",
            "Q Function:  -316416.6687884694\n",
            "\n",
            "mstep self.weights:  [0.57723189 0.42276811]\n",
            "Q Function:  -316274.9953797683\n",
            "\n",
            "mstep self.weights:  [0.56037143 0.43962857]\n",
            "Q Function:  -316186.5214650027\n",
            "\n",
            "mstep self.weights:  [0.53817778 0.46182222]\n",
            "Q Function:  -316187.5533271545\n",
            "\n",
            "mstep self.weights:  [0.51618509 0.48381491]\n",
            "Q Function:  -315960.06979053316\n",
            "\n",
            "mstep self.weights:  [0.50032573 0.49967427]\n",
            "Q Function:  -316034.5245149763\n",
            "\n",
            "mstep self.weights:  [0.27439286 0.72560714]\n",
            "Q Function:  -326881.7674832317\n",
            "\n",
            "mstep self.weights:  [0.27128748 0.72871252]\n",
            "Q Function:  -315252.9124269108\n",
            "\n",
            "mstep self.weights:  [0.27357741 0.72642259]\n",
            "Q Function:  -315141.5578814005\n",
            "\n",
            "Result:  ['./gg_240704_029_Day3_DT_1/Day3_k_2/Bursty_Poisson_1x1/grid_scan_results_0.res', './gg_240704_029_Day3_DT_1/Day3_k_2/Bursty_Poisson_1x1/grid_scan_results_1.res']\n"
          ]
        },
        {
          "metadata": {
            "tags": null
          },
          "name": "stderr",
          "output_type": "stream",
          "text": [
            "/usr/local/lib/python3.10/dist-packages/monod/mminference.py:513: RuntimeWarning: divide by zero encountered in divide\n",
            "  divids = (1e4/tots)[:,None]\n",
            "/usr/local/lib/python3.10/dist-packages/monod/mminference.py:514: RuntimeWarning: invalid value encountered in multiply\n",
            "  S_t = S_t*divids\n",
            "/usr/local/lib/python3.10/dist-packages/sklearn/cluster/_kmeans.py:870: FutureWarning: The default value of `n_init` will change from 10 to 'auto' in 1.4. Set the value of `n_init` explicitly to suppress the warning\n",
            "  warnings.warn(\n"
          ]
        },
        {
          "metadata": {
            "tags": null
          },
          "name": "stdout",
          "output_type": "stream",
          "text": [
            "mstep self.weights:  [0.22403688 0.17802983 0.17469552 0.21575402 0.20748375]\n",
            "Q Function:  -324290.1723130267\n",
            "\n",
            "mstep self.weights:  [0.23295361 0.21636883 0.06262635 0.2485405  0.23951071]\n",
            "Q Function:  -323302.8664421741\n",
            "\n",
            "mstep self.weights:  [0.23626256 0.18523338 0.06255502 0.25433659 0.26161245]\n",
            "Q Function:  -320955.7734101941\n",
            "\n",
            "mstep self.weights:  [0.25230203 0.17344252 0.05603615 0.26310513 0.25511416]\n",
            "Q Function:  -316121.05218461744\n",
            "\n",
            "mstep self.weights:  [0.26340619 0.16557503 0.04838607 0.27225073 0.25038197]\n",
            "Q Function:  -315514.53287262254\n",
            "\n",
            "mstep self.weights:  [0.36396961 0.00695521 0.01899153 0.31719055 0.2928931 ]\n",
            "Q Function:  -318675.7484246163\n",
            "\n",
            "mstep self.weights:  [3.94600835e-01 8.11091285e-10 3.57517672e-03 3.04927002e-01\n",
            " 2.96896985e-01]\n",
            "Q Function:  -314872.25679515407\n",
            "\n",
            "mstep self.weights:  [4.05557696e-01 8.63856964e-11 1.29607050e-03 2.99749130e-01\n",
            " 2.93397103e-01]\n",
            "Q Function:  -314476.9505015599\n",
            "\n",
            "mstep self.weights:  [4.16184283e-01 8.63856329e-11 1.32759056e-05 2.93756473e-01\n",
            " 2.90045968e-01]\n",
            "Q Function:  -314399.7094317631\n",
            "\n",
            "mstep self.weights:  [4.24305794e-01 8.63856330e-11 2.75938614e-09 2.89166586e-01\n",
            " 2.86527617e-01]\n",
            "Q Function:  -314361.13916743593\n",
            "\n",
            "Result:  ['./gg_240704_029_Day3_DT_1/Day3_k_5/Bursty_Poisson_1x1/grid_scan_results_0.res', './gg_240704_029_Day3_DT_1/Day3_k_5/Bursty_Poisson_1x1/grid_scan_results_3.res', './gg_240704_029_Day3_DT_1/Day3_k_5/Bursty_Poisson_1x1/grid_scan_results_4.res']\n"
          ]
        },
        {
          "metadata": {
            "tags": null
          },
          "name": "stderr",
          "output_type": "stream",
          "text": [
            "/usr/local/lib/python3.10/dist-packages/monod/mminference.py:513: RuntimeWarning: divide by zero encountered in divide\n",
            "  divids = (1e4/tots)[:,None]\n",
            "/usr/local/lib/python3.10/dist-packages/monod/mminference.py:514: RuntimeWarning: invalid value encountered in multiply\n",
            "  S_t = S_t*divids\n",
            "/usr/local/lib/python3.10/dist-packages/sklearn/cluster/_kmeans.py:870: FutureWarning: The default value of `n_init` will change from 10 to 'auto' in 1.4. Set the value of `n_init` explicitly to suppress the warning\n",
            "  warnings.warn(\n"
          ]
        },
        {
          "output_type": "stream",
          "name": "stdout",
          "text": [
            "mstep self.weights:  [0.10146684 0.09799422 0.09642963 0.09933409 0.10044269 0.0937928\n",
            " 0.10443568 0.09243099 0.12007635 0.0935967 ]\n",
            "Q Function:  -335931.8137551122\n",
            "\n",
            "mstep self.weights:  [0.07891653 0.18561932 0.00383512 0.01436321 0.19470616 0.05134197\n",
            " 0.07119187 0.17877758 0.18354406 0.03770418]\n",
            "Q Function:  -337496.9828456904\n",
            "\n",
            "mstep self.weights:  [9.58523773e-02 1.57300606e-01 8.02991126e-08 9.13603035e-04\n",
            " 2.09956685e-01 8.11863991e-02 2.35574675e-02 1.91406135e-01\n",
            " 1.95678587e-01 4.41480599e-02]\n",
            "Q Function:  -322390.1097329029\n",
            "\n",
            "mstep self.weights:  [1.02539440e-01 1.44173501e-01 8.72740445e-11 1.12305207e-06\n",
            " 2.11807289e-01 1.01782679e-01 7.46064054e-03 1.91351269e-01\n",
            " 1.94438975e-01 4.64450835e-02]\n",
            "Q Function:  -319424.89968954615\n",
            "\n",
            "mstep self.weights:  [1.37349946e-01 2.03719682e-02 8.63860935e-11 3.87511878e-10\n",
            " 2.45970784e-01 1.16352246e-01 3.11997580e-03 2.21371570e-01\n",
            " 2.04494331e-01 5.09691793e-02]\n",
            "Q Function:  -319801.9335172468\n",
            "\n",
            "mstep self.weights:  [1.59693549e-01 2.86068808e-04 8.63859949e-11 8.64338843e-11\n",
            " 2.48004037e-01 1.20752322e-01 3.25499084e-03 2.26557749e-01\n",
            " 1.91217740e-01 5.02335428e-02]\n",
            "Q Function:  -317261.91350073356\n",
            "\n",
            "mstep self.weights:  [1.96940853e-01 8.94279243e-11 8.63860186e-11 8.63981880e-11\n",
            " 2.93673455e-01 1.36746716e-01 3.81452663e-05 2.90960579e-01\n",
            " 4.58113122e-02 3.58289386e-02]\n",
            "Q Function:  -320254.3268165569\n",
            "\n",
            "mstep self.weights:  [2.12857599e-01 8.63856256e-11 8.63859194e-11 8.63874900e-11\n",
            " 2.92009476e-01 1.43253444e-01 1.64240471e-07 3.13737196e-01\n",
            " 4.51257651e-04 3.76908633e-02]\n",
            "Q Function:  -316801.14667559636\n",
            "\n",
            "mstep self.weights:  [2.21037558e-01 8.63856256e-11 8.63858971e-11 8.63884906e-11\n",
            " 2.79170592e-01 1.42861290e-01 8.63054447e-10 3.20613892e-01\n",
            " 8.63856262e-11 3.63166654e-02]\n",
            "Q Function:  -315843.43495953904\n",
            "\n",
            "mstep self.weights:  [2.98480122e-01 8.63856265e-11 8.63858806e-11 8.63894747e-11\n",
            " 8.91566380e-02 1.42686566e-01 9.07763143e-11 4.30658510e-01\n",
            " 8.63856254e-11 3.90181639e-02]\n",
            "Q Function:  -319810.68602283846\n",
            "\n",
            "Result:  ['./gg_240704_029_Day3_DT_1/Day3_k_10/Bursty_Poisson_1x1/grid_scan_results_0.res', './gg_240704_029_Day3_DT_1/Day3_k_10/Bursty_Poisson_1x1/grid_scan_results_4.res', './gg_240704_029_Day3_DT_1/Day3_k_10/Bursty_Poisson_1x1/grid_scan_results_5.res', './gg_240704_029_Day3_DT_1/Day3_k_10/Bursty_Poisson_1x1/grid_scan_results_7.res', './gg_240704_029_Day3_DT_1/Day3_k_10/Bursty_Poisson_1x1/grid_scan_results_9.res']\n"
          ]
        }
      ]
    },
    {
      "cell_type": "code",
      "source": [
        "sr = []\n",
        "for strings in result_strings:\n",
        "    sr += [[monod.analysis.load_search_results(i) for i in strings]]\n",
        "\n",
        "#SearchData objects, with U/S\n",
        "sd = []\n",
        "for strings in result_strings:\n",
        "\n",
        "    sd += [[monod.analysis.load_search_data(i[:i.find('Bursty')]+'raw.sd') for i in strings]]\n",
        "\n",
        "len(sd)"
      ],
      "metadata": {
        "id": "0JQUT9YuWgPF",
        "outputId": "93e16827-ffa1-4a94-90d7-88ee31727337",
        "colab": {
          "base_uri": "https://localhost:8080/"
        }
      },
      "execution_count": 19,
      "outputs": [
        {
          "output_type": "execute_result",
          "data": {
            "text/plain": [
              "3"
            ]
          },
          "metadata": {},
          "execution_count": 19
        }
      ]
    },
    {
      "cell_type": "markdown",
      "source": [
        "View results and fits for different K values"
      ],
      "metadata": {
        "id": "YsTMAfiiZULS"
      }
    },
    {
      "cell_type": "code",
      "source": [
        "def check_at_bounds(phys_params,thr=0.01,phys_lb=[-2.0, -1.8, -1.8 ],phys_ub=[4.2, 2.5, 2.5]):\n",
        "    #Check for genes where parameter fits are close to boundary of grid\n",
        "    x = np.any(np.logical_or(\n",
        "        np.array(phys_lb)+thr > phys_params,\n",
        "        np.array(phys_ub)-thr < phys_params) ,1)\n",
        "    return x"
      ],
      "metadata": {
        "id": "m0CCuj0XZ2dK"
      },
      "execution_count": 20,
      "outputs": []
    },
    {
      "cell_type": "code",
      "source": [
        "def get_assigns(sr):\n",
        "    '''\n",
        "    Get cell cluster assignments\n",
        "    '''\n",
        "    cats = np.array([None]*len(sr[0].filt))\n",
        "    for r in sr:\n",
        "        cats[r.filt] = r.assigns\n",
        "    return cats"
      ],
      "metadata": {
        "id": "mkTLImglZ2fi"
      },
      "execution_count": 21,
      "outputs": []
    },
    {
      "cell_type": "code",
      "source": [
        "def vis_metrics(results,title,ks,figsize=(18, 5),s=50,fname=None):\n",
        "    '''\n",
        "    Visualize -Q function and KLD over epochs, and -AIC for final model inference\n",
        "\n",
        "    results: list of len num_ks, of lists of SearchResults objs per K tested (e.g. [[SearchResults],[SearchResults,SearchResults]] for K=1&2)\n",
        "    title: title string for leftmost, plot\n",
        "    ks: list of ks tested (e.g. [1,2])\n",
        "    figsize: tuple for size of figure\n",
        "    s: size of dots in scatterplot\n",
        "    save_file: string, output file to save image\n",
        "\n",
        "  '''\n",
        "\n",
        "    num_ks = len(results)\n",
        "    sets = []\n",
        "    qs = []\n",
        "    res = pd.DataFrame()\n",
        "    aics = pd.DataFrame()\n",
        "    klds = pd.DataFrame()\n",
        "\n",
        "    aic = []\n",
        "    fin_k = []\n",
        "    kls = []\n",
        "\n",
        "    epoch = len(results[0][0].all_qs.flatten())\n",
        "    epos = list(range(1,epoch+1))*num_ks\n",
        "\n",
        "    for i in range(num_ks):\n",
        "\n",
        "        qs += list(-1*results[i][0].all_qs.flatten())\n",
        "        sets += [ks[i]]*epoch\n",
        "        aic += [results[i][0].aic[0]]\n",
        "        fin_k += [len(results[i])]\n",
        "\n",
        "\n",
        "        concat_klds = []\n",
        "        ks_used = []\n",
        "        for r in results[i]:\n",
        "            concat_klds += [r.all_klds[0,:,:]]\n",
        "            ks_used += [r.assigns]\n",
        "\n",
        "        concat_klds = np.array(concat_klds)\n",
        "        concat_klds = concat_klds.reshape((concat_klds.shape[1], concat_klds.shape[2],concat_klds.shape[0]))\n",
        "\n",
        "        kls += list(np.mean(np.sum(concat_klds[:,:,:],axis=1),axis=1)) #Sum of klds across k clusters\n",
        "\n",
        "\n",
        "    res['Q'] = qs\n",
        "    res['KLD'] = kls\n",
        "    res['epoch'] = epos\n",
        "    res['setting'] = ['k='+str(j) for j in sets]\n",
        "\n",
        "    aics['AIC'] = aic\n",
        "    aics['k'] = [str(j) for j in ks ]\n",
        "    aics['fin_k'] = fin_k\n",
        "\n",
        "    #Plot Q function over epochs\n",
        "    fig, ax = plt.subplots(nrows=1, ncols=3, figsize=figsize)\n",
        "\n",
        "    sns.lineplot(data=res,x='epoch',y='Q',hue='setting',\n",
        "                    ax=ax[0],palette='Dark2',\n",
        "                   alpha=0.7,legend=False)\n",
        "    g1=sns.scatterplot(data=res,x='epoch',y='Q',hue='setting',\n",
        "                    ax=ax[0],palette='Dark2',s=s,\n",
        "                   alpha=0.7,edgecolor='black')\n",
        "    ax[0].set_xlabel('Epoch')\n",
        "    ax[0].set_ylabel('-Q')\n",
        "    ax[0].legend(\n",
        "          title='Set K')\n",
        "    ax[0].set_title(title)\n",
        "    sns.move_legend(g1, \"upper left\", bbox_to_anchor=(1, 1))\n",
        "\n",
        "\n",
        "    #Plot klds over epochs\n",
        "    g2=sns.lineplot(data=res,x='epoch',y='KLD',hue='setting',\n",
        "                    ax=ax[1],palette='Dark2',\n",
        "                   alpha=0.7,legend=False)\n",
        "    sns.scatterplot(data=res,x='epoch',y='KLD',hue='setting',\n",
        "                    ax=ax[1],palette='Dark2',s=s,\n",
        "                   alpha=0.7,edgecolor='black')\n",
        "    ax[1].set_xlabel('Epoch')\n",
        "    ax[1].set_ylabel('KLD')\n",
        "    ax[1].legend(\n",
        "          title='Set K')\n",
        "    sns.move_legend(g2, \"upper left\", bbox_to_anchor=(1, 1))\n",
        "\n",
        "\n",
        "\n",
        "    #Plot aics\n",
        "    g3=sns.scatterplot(data=aics,x='fin_k',y='AIC',hue='k', ax=ax[2],palette='Dark2',s=s,\n",
        "                   alpha=0.7,edgecolor='black')\n",
        "    ax[2].set_xlabel('Final Assigned k')\n",
        "    ax[2].set_ylabel('-AIC')\n",
        "    ax[2].legend(\n",
        "          title='Set K')\n",
        "    sns.move_legend(g3, \"upper left\", bbox_to_anchor=(1, 1))\n",
        "\n",
        "\n",
        "    plt.tight_layout()\n",
        "    if fname is None:\n",
        "        plt.show()\n",
        "    else:\n",
        "        plt.savefig(fname)\n"
      ],
      "metadata": {
        "id": "P9Hjk8b9ZxLG"
      },
      "execution_count": 22,
      "outputs": []
    },
    {
      "cell_type": "code",
      "source": [
        "vis_metrics(sr,'Day3_Clusters',Ks,figsize=(15,3),fname='DT_k_metrics.pdf')"
      ],
      "metadata": {
        "id": "IElYgZbqZSRK",
        "outputId": "06b7036c-040b-4815-9c0b-98798adedcbb",
        "colab": {
          "base_uri": "https://localhost:8080/",
          "height": 623
        }
      },
      "execution_count": 23,
      "outputs": [
        {
          "output_type": "stream",
          "name": "stderr",
          "text": [
            "<frozen importlib._bootstrap>:914: ImportWarning: _PyDrive2ImportHook.find_spec() not found; falling back to find_module()\n",
            "<frozen importlib._bootstrap>:914: ImportWarning: _PyDriveImportHook.find_spec() not found; falling back to find_module()\n",
            "<frozen importlib._bootstrap>:914: ImportWarning: _GenerativeAIImportHook.find_spec() not found; falling back to find_module()\n",
            "<frozen importlib._bootstrap>:914: ImportWarning: _OpenCVImportHook.find_spec() not found; falling back to find_module()\n",
            "<frozen importlib._bootstrap>:914: ImportWarning: APICoreClientInfoImportHook.find_spec() not found; falling back to find_module()\n",
            "<frozen importlib._bootstrap>:914: ImportWarning: _BokehImportHook.find_spec() not found; falling back to find_module()\n",
            "<frozen importlib._bootstrap>:914: ImportWarning: _AltairImportHook.find_spec() not found; falling back to find_module()\n",
            "<frozen importlib._bootstrap>:914: ImportWarning: _PyDrive2ImportHook.find_spec() not found; falling back to find_module()\n",
            "<frozen importlib._bootstrap>:914: ImportWarning: _PyDriveImportHook.find_spec() not found; falling back to find_module()\n",
            "<frozen importlib._bootstrap>:914: ImportWarning: _GenerativeAIImportHook.find_spec() not found; falling back to find_module()\n",
            "<frozen importlib._bootstrap>:914: ImportWarning: _OpenCVImportHook.find_spec() not found; falling back to find_module()\n",
            "<frozen importlib._bootstrap>:914: ImportWarning: APICoreClientInfoImportHook.find_spec() not found; falling back to find_module()\n",
            "<frozen importlib._bootstrap>:914: ImportWarning: _BokehImportHook.find_spec() not found; falling back to find_module()\n",
            "<frozen importlib._bootstrap>:914: ImportWarning: _AltairImportHook.find_spec() not found; falling back to find_module()\n",
            "<frozen importlib._bootstrap>:914: ImportWarning: _PyDrive2ImportHook.find_spec() not found; falling back to find_module()\n",
            "<frozen importlib._bootstrap>:914: ImportWarning: _PyDriveImportHook.find_spec() not found; falling back to find_module()\n",
            "<frozen importlib._bootstrap>:914: ImportWarning: _GenerativeAIImportHook.find_spec() not found; falling back to find_module()\n",
            "<frozen importlib._bootstrap>:914: ImportWarning: _OpenCVImportHook.find_spec() not found; falling back to find_module()\n",
            "<frozen importlib._bootstrap>:914: ImportWarning: APICoreClientInfoImportHook.find_spec() not found; falling back to find_module()\n",
            "<frozen importlib._bootstrap>:914: ImportWarning: _BokehImportHook.find_spec() not found; falling back to find_module()\n",
            "<frozen importlib._bootstrap>:914: ImportWarning: _AltairImportHook.find_spec() not found; falling back to find_module()\n"
          ]
        },
        {
          "output_type": "display_data",
          "data": {
            "text/plain": [
              "<Figure size 1500x300 with 3 Axes>"
            ],
            "image/png": "[encoded data removed]"
          },
          "metadata": {}
        }
      ]
    },
    {
      "cell_type": "markdown",
      "source": [
        "## **DE-$\\theta$ analysis between learned clusters**"
      ],
      "metadata": {
        "id": "WX11mEGsWhOk"
      }
    },
    {
      "cell_type": "code",
      "source": [
        "def make_fcs(sr,sd,clus1=0,clus2=1,gf_rej=False,thrpars=2,thrmean=1,outlier_de=True,nuc=False,correct_off=False):\n",
        "    '''\n",
        "    Utilize different metrics to find fold-changes (FCs) between cluster parameters\n",
        "\n",
        "    sr: list of SearchResults objects from meK-Means runs\n",
        "    sd: SearchData object that corresponds to full, input data\n",
        "    clus1: cluster 1 (to compare FCS of cluster 1/cluster 2 )\n",
        "    clus2: cluster 2 (to compare FCS of cluster 1/cluster 2 )\n",
        "    gf_rej: whether to use boolean list of rejected genes from both clusters\n",
        "    thrpars: FC threshold value (to call DE-theta genes)\n",
        "    thrmean: Mean S expression threshold value, for genes to consider\n",
        "    outlier_de: Use iterative outlier calling procedure to assign DE-theta genes (see Monod https://github.com/pachterlab/monod_examples/blob/main/Monod_demo.ipynb)\n",
        "    nuc: is this nuclear RNA data\n",
        "    correct_off: boolean to correct parameter offset with ODR\n",
        "    '''\n",
        "\n",
        "    all_filt_fcs = pd.DataFrame()\n",
        "    fcs,types,which_pair,highFC,spliceFC,g_names,out_de = ([] for i in range(7))\n",
        "\n",
        "    ind1 = [i for i in range(len(sr)) if clus1 == sr[i].assigns][0]\n",
        "    ind2 = [i for i in range(len(sr)) if clus2 == sr[i].assigns][0]\n",
        "\n",
        "    sr1 = sr[ind1]\n",
        "    sr2 = sr[ind2]\n",
        "    if correct_off:\n",
        "        param_names = sr1.model.get_log_name_str()\n",
        "        offsets = []\n",
        "        par_vals = np.copy(sr2.param_estimates)\n",
        "        for k in range(3):\n",
        "            m1 = sr1.param_estimates[0,:,k]\n",
        "            m2 = sr2.param_estimates[0,:,k]\n",
        "            offset = analysis.diffexp_fpi(m1,m2,param_names[k],viz=False)[1]\n",
        "            par_vals[0,:,k] -= offset\n",
        "\n",
        "        fc_par = (sr1.param_estimates-par_vals)/np.log10(2)\n",
        "    else:\n",
        "        fc_par = (sr1.param_estimates-sr2.param_estimates)/np.log10(2)  #Get FCs between cluster params\n",
        "\n",
        "    print('fc_par.shape: ',fc_par.shape)\n",
        "    if nuc:\n",
        "        fc_s_par = np.log2(sd.layers[0][:,sr1.filt].mean(1)/sd.layers[0][:,sr2.filt].mean(1))\n",
        "    else:\n",
        "        fc_s_par = np.log2(sd.layers[1][:,sr1.filt].mean(1)/sd.layers[1][:,sr2.filt].mean(1)) #Get spliced FCs\n",
        "\n",
        "    print('fc_s_par.shape: ',fc_s_par.shape)\n",
        "\n",
        "    if outlier_de:\n",
        "        dr_analysis = monod.analysis.diffexp_pars(sr1,sr2,viz=True,modeltype='id',use_sigma=True)\n",
        "        par_bool_de = dr_analysis[1].T\n",
        "\n",
        "    parnames = ('b','beta','gamma')\n",
        "\n",
        "\n",
        "  #-----is parameter FC significant -----\n",
        "    if gf_rej is False:\n",
        "        gf_rej = [True]*sd.n_genes\n",
        "    else:\n",
        "        gf_rej = (~sr1.rejected_genes) & (~sr2.rejected_genes)\n",
        "\n",
        "    for n in range(len(parnames)):\n",
        "        #Boolean for if large param FC and not rejected gene (with minimum expression)\n",
        "        if nuc:\n",
        "            gf_highnoise = (np.abs(fc_par[0,:,n])>thrpars)  \\\n",
        "                & ((sd.layers[0][:,sr1.filt].mean(1)>thrmean) | (sd.layers[0][:,sr2.filt].mean(1)>thrmean)) \\\n",
        "                & gf_rej\n",
        "        else:\n",
        "            gf_highnoise = (np.abs(fc_par[0,:,n])>thrpars)  \\\n",
        "                & ((sd.layers[1][:,sr1.filt].mean(1)>thrmean) | (sd.layers[1][:,sr2.filt].mean(1)>thrmean)) \\\n",
        "                & gf_rej\n",
        "\n",
        "        #Boolean for FC (above) but no FC detected at S-level\n",
        "        gf_highnoise_meanS = gf_highnoise & (np.abs(fc_s_par)<1) & gf_rej\n",
        "\n",
        "        #Boolean for FC (above)\n",
        "        gf_onlyhigh = gf_highnoise & gf_rej\n",
        "\n",
        "        #For dataframe\n",
        "        fcs += list(fc_par[0,gf_rej,n])\n",
        "        g_names += list(sr1.gene_names[gf_rej])\n",
        "        which_pair += [[sr1.assigns,sr2.assigns]]*np.sum(gf_rej)\n",
        "        highFC += list(gf_onlyhigh[gf_rej])\n",
        "        spliceFC += list(gf_highnoise_meanS[gf_rej])\n",
        "        types += [parnames[n]]*np.sum(gf_rej)\n",
        "        if outlier_de:\n",
        "            out_de += list(par_bool_de[gf_rej,n])\n",
        "\n",
        "    if outlier_de:\n",
        "        all_filt_fcs['deTheta_outlier'] = out_de\n",
        "\n",
        "    all_filt_fcs['log2FC'] = fcs\n",
        "    all_filt_fcs['gene'] = g_names\n",
        "    all_filt_fcs['cluster_pair'] = which_pair\n",
        "    all_filt_fcs['deTheta_FC'] = highFC\n",
        "    all_filt_fcs['deTheta_noDeMuS'] = spliceFC\n",
        "    all_filt_fcs['param'] = types\n",
        "\n",
        "    return all_filt_fcs\n"
      ],
      "metadata": {
        "id": "ryhqbAAaWkkN",
        "outputId": "01f45fac-b7b9-4c36-c3ab-97a995606c55",
        "colab": {
          "base_uri": "https://localhost:8080/"
        }
      },
      "execution_count": 24,
      "outputs": [
        {
          "output_type": "stream",
          "name": "stderr",
          "text": [
            "/usr/local/lib/python3.10/dist-packages/ipykernel/ipkernel.py:283: DeprecationWarning: `should_run_async` will not call `transform_cell` automatically in the future. Please pass the result to `transformed_cell` argument and any exception that happen during thetransform in `preprocessing_exc_tuple` in IPython 7.17 and above.\n",
            "  and should_run_async(code)\n"
          ]
        }
      ]
    },
    {
      "cell_type": "code",
      "source": [
        "#Get params for each gene, which cluster it marks, and whether it's DE in any param\n",
        "def get_gene_DE(all_filt_fcs):\n",
        "    bs = all_filt_fcs[all_filt_fcs.param.isin(['b'])].log2FC\n",
        "    betas = all_filt_fcs[all_filt_fcs.param.isin(['beta'])].log2FC\n",
        "    gammas = all_filt_fcs[all_filt_fcs.param.isin(['gamma'])].log2FC\n",
        "    highFCs = np.array(all_filt_fcs[all_filt_fcs.param.isin(['b'])].deTheta_FC) | np.array(all_filt_fcs[all_filt_fcs.param.isin(['beta'])].deTheta_FC) | np.array(all_filt_fcs[all_filt_fcs.param.isin(['gamma'])].deTheta_FC)\n",
        "    noSpliceFCs = np.array(all_filt_fcs[all_filt_fcs.param.isin(['b'])].deTheta_noDeMuS) | np.array(all_filt_fcs[all_filt_fcs.param.isin(['beta'])].deTheta_noDeMuS) | np.array(all_filt_fcs[all_filt_fcs.param.isin(['gamma'])].deTheta_noDeMuS)\n",
        "\n",
        "    names = all_filt_fcs[all_filt_fcs.param.isin(['b'])].gene\n",
        "\n",
        "    dom = []\n",
        "    for i in range(len(noSpliceFCs)):\n",
        "        fc_b = list(all_filt_fcs[all_filt_fcs.param.isin(['b'])].iloc[[i]].log2FC)[0]\n",
        "        fc_beta = list(all_filt_fcs[all_filt_fcs.param.isin(['beta'])].iloc[[i]].log2FC)[0]\n",
        "        fc_gamma = list(all_filt_fcs[all_filt_fcs.param.isin(['gamma'])].iloc[[i]].log2FC)[0]\n",
        "\n",
        "        sig_b = list(np.array(all_filt_fcs[all_filt_fcs.param.isin(['b'])].iloc[[i]].deTheta_FC) | np.array(all_filt_fcs[all_filt_fcs.param.isin(['b'])].iloc[[i]].deTheta_noDeMuS))[0]\n",
        "        sig_beta = list(np.array(all_filt_fcs[all_filt_fcs.param.isin(['beta'])].iloc[[i]].deTheta_FC) | np.array(all_filt_fcs[all_filt_fcs.param.isin(['beta'])].iloc[[i]].deTheta_noDeMuS))[0]\n",
        "\n",
        "        sig_gamma = list(np.array(all_filt_fcs[all_filt_fcs.param.isin(['gamma'])].iloc[[i]].deTheta_FC) | np.array(all_filt_fcs[all_filt_fcs.param.isin(['gamma'])].iloc[[i]].deTheta_noDeMuS))[0]\n",
        "\n",
        "\n",
        "        pairs = list(all_filt_fcs[all_filt_fcs.param.isin(['b'])].iloc[[i]].cluster_pair)[0]\n",
        "\n",
        "# ----- Cell type 'marker' means increase in burst freq,burst,or splicing, or decrease in deg (increased 'stability') ----\n",
        "\n",
        "        #Increase in burst freq (not outweighted by burst size)\n",
        "        if (-1*fc_beta > 0 and sig_beta and -1*fc_gamma > 0 and sig_gamma) :\n",
        "            if (np.abs(fc_b) < np.abs(fc_beta)):\n",
        "                dom += [pairs[0]]\n",
        "            elif (fc_b > 0 and sig_b):\n",
        "                dom += [pairs[0]]\n",
        "            elif (fc_b < 0 and sig_b):\n",
        "                dom += [pairs[1]]\n",
        "            else:\n",
        "                dom += ['None']\n",
        "        elif (fc_beta > 0 and sig_beta and fc_gamma > 0 and sig_gamma) :\n",
        "            if (np.abs(fc_b) < np.abs(fc_beta)):\n",
        "                dom += [pairs[1]]\n",
        "            elif (fc_b > 0 and sig_b):\n",
        "                dom += ['None'] #don't know\n",
        "            elif (fc_b < 0 and sig_b):\n",
        "                dom += [pairs[1]]\n",
        "            else:\n",
        "                dom += ['None']\n",
        "        elif sig_b:\n",
        "            if np.abs(fc_b) > np.abs(fc_beta) and np.abs(fc_b) > np.abs(fc_gamma):\n",
        "                if fc_b > 0:\n",
        "                    dom += [pairs[0]]\n",
        "                else:\n",
        "                    dom += [pairs[1]]\n",
        "            elif np.abs(fc_b) < np.abs(fc_beta):\n",
        "                if fc_beta > 0:\n",
        "                    dom += [pairs[0]]\n",
        "                elif fc_beta < 0:\n",
        "                    dom += [pairs[1]]\n",
        "            elif np.abs(fc_b) < np.abs(fc_gamma):\n",
        "                if fc_gamma < 0:\n",
        "                    dom += [pairs[0]]\n",
        "                elif fc_gamma > 0:\n",
        "                    dom += [pairs[1]]\n",
        "            else:\n",
        "                dom += ['None']\n",
        "        elif (fc_beta > 0 and sig_beta):\n",
        "            dom += [pairs[0]]\n",
        "        elif (fc_gamma > 0 and sig_gamma): #individual FCs\n",
        "            dom += [pairs[1]]\n",
        "        elif  (fc_beta < 0 and sig_beta):\n",
        "            dom += [pairs[1]]\n",
        "        elif (fc_gamma < 0 and sig_gamma):\n",
        "            dom += [pairs[0]]\n",
        "        else:\n",
        "            dom += ['None']\n",
        "\n",
        "\n",
        "    return bs,-1*betas,-1*gammas,dom,highFCs,noSpliceFCs,names #-1 for plotting purposes"
      ],
      "metadata": {
        "id": "OXJFp-5oMNdk"
      },
      "execution_count": 25,
      "outputs": []
    },
    {
      "cell_type": "code",
      "source": [
        "#Plot FCs of parameters between two clusters\n",
        "\n",
        "def plot_de(outs,names_plot,mark_plot,xpos,ypos,arrow,assign_colors,figsize=(10,4),betag=False,xlims=[-10,10],fname=None):\n",
        "    fig,ax = plt.subplots(1,2,figsize=figsize)\n",
        "\n",
        "    name_inds = [list(outs[6]).index(i) for i in names_plot]\n",
        "\n",
        "    labs = np.array(outs[3])\n",
        "    g=sns.scatterplot(x=list(outs[0][labs =='None']),y=list(outs[1][labs=='None']),\n",
        "                      hue=list(pd.Categorical(outs[3])[labs=='None']),\n",
        "                      palette=assign_colors,ax=ax[0],style=list(outs[5][labs=='None']),alpha=0.1,s=100,edgecolor='black')\n",
        "\n",
        "    sns.scatterplot(x=list(outs[0][(labs!='None')  &  (outs[5]==False)]),\n",
        "                    y=list(outs[1][(labs!='None') &  (outs[5]==False)]),\n",
        "                    hue=list(pd.Categorical(outs[3])[(labs!='None') &  (outs[5]==False)]),\n",
        "                      palette=assign_colors,ax=ax[0],marker='o',alpha=0.6,s=100,edgecolor='black')\n",
        "\n",
        "    sns.scatterplot(x=list(outs[0][(labs!='None')  &  (outs[5]==True)]),\n",
        "                    y=list(outs[1][(labs!='None')  &  (outs[5]==True)]),\n",
        "                    hue=list(pd.Categorical(outs[3])[(labs!='None')  &  (outs[5]==True)]),\n",
        "                      palette=assign_colors,ax=ax[0],marker='X',alpha=0.8,s=120,edgecolor='black')\n",
        "\n",
        "    #Annotate genes\n",
        "    for n in range(len(names_plot)):\n",
        "        x=list(outs[0])[name_inds[n]]\n",
        "        y=list(outs[1])[name_inds[n]]\n",
        "        h=[pd.Categorical(outs[3])[name_inds[n]]]\n",
        "        if_x=list(outs[5])[name_inds[n]]\n",
        "\n",
        "        if if_x:\n",
        "            shape = 'X'\n",
        "        else:\n",
        "            shape = 'o'\n",
        "\n",
        "        if arrow[n]:\n",
        "            #Replot, so annotated points show up on top\n",
        "            sns.scatterplot(x=x,\n",
        "                    y=y,\n",
        "                    hue=h,\n",
        "                      palette=assign_colors,ax=ax[0],marker=shape,alpha=0.8,s=120,edgecolor='black',\n",
        "                           legend=False)\n",
        "\n",
        "            ax[0].annotate(names_plot[n], (x, y), fontsize=14,\n",
        "                           xytext=(x+xpos[n],y+ypos[n]),weight=\"bold\", color=assign_colors[mark_plot[n]],\n",
        "                       arrowprops = dict(facecolor=assign_colors[mark_plot[n]],\n",
        "                                         arrowstyle=\"-|>\",connectionstyle=\"angle3,angleA=0,angleB=-90\",lw=0.4))\n",
        "        else:\n",
        "            #Replot, so annotated points show up on top\n",
        "            sns.scatterplot(x=x,\n",
        "                    y=y,\n",
        "                    hue=h,\n",
        "                      palette=assign_colors,ax=ax[0],marker=shape,alpha=0.8,s=120,edgecolor='black',\n",
        "                           legend=False)\n",
        "\n",
        "            ax[0].annotate(names_plot[n], (x, y),fontsize=14,\n",
        "                           xytext=(x+xpos[n], y+ypos[n]),color=assign_colors[mark_plot[n]],weight=\"bold\")\n",
        "\n",
        "    sns.move_legend(g, \"upper left\", bbox_to_anchor=(1, 1))\n",
        "\n",
        "    xl =np.asarray([xlims[0],xlims[1]])\n",
        "    xlx = [xl[0],xl[1]]\n",
        "    xly = [xl[0],xl[1]]\n",
        "    ax[0].set_xlim(xlx)\n",
        "    ax[0].set_ylim(xly)\n",
        "\n",
        "    ax[0].plot(xl,-xl,'--',linewidth=2.5,c='crimson',alpha=0.3)\n",
        "\n",
        "    ax[0].set_xlabel(r'$\\log_{2}$FC $b$ ',fontsize=14)\n",
        "    ax[0].set_ylabel(r'$-\\log_{2}$FC $\\beta$ ',fontsize=14)\n",
        "\n",
        "    ax[0].tick_params(axis='both', which='major', labelsize=14,)\n",
        "\n",
        "\n",
        "\n",
        "\n",
        "    if betag == False:\n",
        "        labs = np.array(outs[3])\n",
        "        g=sns.scatterplot(x=list(outs[0][labs =='None']),y=list(outs[2][labs=='None']),\n",
        "                          hue=list(pd.Categorical(outs[3])[labs=='None']),\n",
        "                          palette=assign_colors,ax=ax[1],style=list(outs[5][labs=='None']),alpha=0.1,s=100,edgecolor='black')\n",
        "\n",
        "        sns.scatterplot(x=list(outs[0][(labs!='None')  &  (outs[5]==False)]),\n",
        "                        y=list(outs[2][(labs!='None')  &  (outs[5]==False)]),\n",
        "                        hue=list(pd.Categorical(outs[3])[(labs!='None')  &  (outs[5]==False)]),\n",
        "                          palette=assign_colors,ax=ax[1],marker='o',alpha=0.6\n",
        "                        ,s=100,edgecolor='black')\n",
        "\n",
        "\n",
        "        sns.scatterplot(x=list(outs[0][(labs!='None')  &  (outs[5]==True)]),\n",
        "                        y=list(outs[2][(labs!='None')  &  (outs[5]==True)]),\n",
        "                        hue=list(pd.Categorical(outs[3])[(labs!='None')  &  (outs[5]==True)]),\n",
        "                          palette=assign_colors,ax=ax[1],marker='X',\n",
        "                        alpha=0.8,s=120,edgecolor='black')\n",
        "        #Annotate genes\n",
        "        for n in range(len(names_plot)):\n",
        "            x=list(outs[0])[name_inds[n]]\n",
        "            y=list(outs[2])[name_inds[n]]\n",
        "            h=[pd.Categorical(outs[3])[name_inds[n]]]\n",
        "            if_x=list(outs[5])[name_inds[n]]\n",
        "\n",
        "            if if_x:\n",
        "                shape = 'X'\n",
        "            else:\n",
        "                shape = 'o'\n",
        "\n",
        "            if arrow[n]:\n",
        "                #Replot, so annotated points show up on top\n",
        "                sns.scatterplot(x=x,\n",
        "                        y=y,\n",
        "                        hue=h,\n",
        "                          palette=assign_colors,ax=ax[1],marker=shape,alpha=0.8,s=100,edgecolor='black',\n",
        "                               legend=False)\n",
        "\n",
        "                ax[1].annotate(names_plot[n], (x, y), fontsize=14,\n",
        "                               xytext=(x+xpos[n], y+ypos[n]),weight=\"bold\", color=assign_colors[mark_plot[n]],\n",
        "                           arrowprops = dict(facecolor=assign_colors[mark_plot[n]],\n",
        "                                             arrowstyle=\"-|>\",connectionstyle=\"angle3,angleA=0,angleB=-90\",\n",
        "                                             lw=0.4,))\n",
        "            else:\n",
        "                #Replot, so annotated points show up on top\n",
        "                sns.scatterplot(x=x,\n",
        "                        y=y,\n",
        "                        hue=h,\n",
        "                          palette=assign_colors,ax=ax[1],marker=shape,alpha=0.8,s=120,edgecolor='black',\n",
        "                               legend=False)\n",
        "\n",
        "                ax[1].annotate(names_plot[n], (x, y), fontsize=14,\n",
        "                               xytext=(x+xpos[n], y+ypos[n]),color=assign_colors[mark_plot[n]],weight=\"bold\")\n",
        "\n",
        "\n",
        "        sns.move_legend(g, \"upper left\", bbox_to_anchor=(1, 1))\n",
        "\n",
        "        xl =np.asarray([xlims[0],xlims[1]])\n",
        "        xlx = [xl[0],xl[1]]\n",
        "        xly = [xl[0],xl[1]]\n",
        "        ax[1].set_xlim(xlx)\n",
        "        ax[1].set_ylim(xly)\n",
        "\n",
        "        ax[1].plot(xl,-xl,'--',linewidth=2.5,c='crimson',alpha=0.3)\n",
        "\n",
        "        ax[1].set_xlabel(r'$\\log_{2}$FC $b$ ',fontsize=14)\n",
        "        ax[1].set_ylabel(r'$-\\log_{2}$FC $\\gamma$ ',fontsize=14)\n",
        "\n",
        "        ax[1].tick_params(axis='both', which='major', labelsize=14,)\n",
        "    else:\n",
        "        labs = np.array(outs[3])\n",
        "        g=sns.scatterplot(x=list(outs[1][labs =='None']),y=list(outs[2][labs=='None']),\n",
        "                          hue=list(pd.Categorical(outs[3])[labs=='None']),\n",
        "                          palette=assign_colors,ax=ax[1],style=list(outs[5][labs=='None']),alpha=0.1,s=100,edgecolor='black')\n",
        "\n",
        "        sns.scatterplot(x=list(outs[1][(labs!='None')  &  (outs[5]==False)]),\n",
        "                        y=list(outs[2][(labs!='None')  &  (outs[5]==False)]),\n",
        "                        hue=list(pd.Categorical(outs[3])[(labs!='None')  &  (outs[5]==False)]),\n",
        "                          palette=assign_colors,ax=ax[1],marker='o',alpha=0.6\n",
        "                        ,s=100,edgecolor='black')\n",
        "\n",
        "\n",
        "        sns.scatterplot(x=list(outs[1][(labs!='None')  &  (outs[5]==True)]),\n",
        "                        y=list(outs[2][(labs!='None')  &  (outs[5]==True)]),\n",
        "                        hue=list(pd.Categorical(outs[3])[(labs!='None')  &  (outs[5]==True)]),\n",
        "                          palette=assign_colors,ax=ax[1],marker='X',\n",
        "                        alpha=0.8,s=120,edgecolor='black')\n",
        "        #Annotate genes\n",
        "        for n in range(len(names_plot)):\n",
        "            x=list(outs[1])[name_inds[n]]\n",
        "            y=list(outs[2])[name_inds[n]]\n",
        "            h=[pd.Categorical(outs[3])[name_inds[n]]]\n",
        "            if_x=list(outs[5])[name_inds[n]]\n",
        "\n",
        "            if if_x:\n",
        "                shape = 'X'\n",
        "            else:\n",
        "                shape = 'o'\n",
        "\n",
        "\n",
        "            if arrow[n]:\n",
        "                #Replot, so annotated points show up on top\n",
        "                sns.scatterplot(x=x,\n",
        "                        y=y,\n",
        "                        hue=h,\n",
        "                          palette=assign_colors,ax=ax[1],marker=shape,alpha=0.8,s=120,edgecolor='black',\n",
        "                               legend=False)\n",
        "\n",
        "                ax[1].annotate(names_plot[n], (x, y), fontsize=14,\n",
        "                               xytext=(x+xpos[n], y+ypos[n]),weight=\"bold\", color=assign_colors[mark_plot[n]],\n",
        "                           arrowprops = dict(facecolor=assign_colors[mark_plot[n]],\n",
        "                                             arrowstyle=\"-|>\",connectionstyle=\"angle3,angleA=0,angleB=-90\",\n",
        "                                             lw=0.4,))\n",
        "            else:\n",
        "                #Replot, so annotated points show up on top\n",
        "                sns.scatterplot(x=x,\n",
        "                        y=y,\n",
        "                        hue=h,\n",
        "                          palette=assign_colors,ax=ax[1],marker=shape,alpha=0.8,s=120,edgecolor='black',\n",
        "                               legend=False)\n",
        "\n",
        "                ax[1].annotate(names_plot[n], (x, y), fontsize=14,\n",
        "                               xytext=(x+xpos[n], y+ypos[n]),color=assign_colors[mark_plot[n]],weight=\"bold\")\n",
        "\n",
        "\n",
        "\n",
        "        sns.move_legend(g, \"upper left\", bbox_to_anchor=(1, 1))\n",
        "\n",
        "        xl =np.asarray([xlims[0],xlims[1]])\n",
        "        xlx = [xl[0],xl[1]]\n",
        "        xly = [xl[0],xl[1]]\n",
        "        ax[1].set_xlim(xlx)\n",
        "        ax[1].set_ylim(xly)\n",
        "\n",
        "        ax[1].plot(xl,xl,'--',linewidth=2.5,c='crimson',alpha=0.3)\n",
        "\n",
        "        ax[1].set_xlabel(r'$-\\log_{2}$FC $\\beta$ ',fontsize=14)\n",
        "        ax[1].set_ylabel(r'$-\\log_{2}$FC $\\gamma$ ',fontsize=14)\n",
        "\n",
        "        ax[1].tick_params(axis='both', which='major', labelsize=14,)\n",
        "\n",
        "\n",
        "    plt.tight_layout()\n",
        "    if fname is None:\n",
        "        plt.show()\n",
        "    else:\n",
        "        plt.savefig(fname)\n",
        "\n"
      ],
      "metadata": {
        "id": "BkNY_SgRMOiT"
      },
      "execution_count": 26,
      "outputs": []
    },
    {
      "cell_type": "markdown",
      "source": [
        "We will work with the clusters from the K=5 results, which yielded 3 clusters."
      ],
      "metadata": {
        "id": "MMpOlvpTKh0R"
      }
    },
    {
      "cell_type": "code",
      "source": [
        "chosen_sr = sr[1]\n",
        "chosen_sd = sd[1]"
      ],
      "metadata": {
        "id": "M7InDXQWK8Ce"
      },
      "execution_count": 27,
      "outputs": []
    },
    {
      "cell_type": "code",
      "source": [
        "#Reject gene fits with rejection statistics across all clusters\n",
        "\n",
        "for r,d in zip(chosen_sr,chosen_sd):\n",
        "\n",
        "    r.find_sampling_optimum() #There is only one set of sampling parameters\n",
        "\n",
        "    _=r.chisquare_testing(d,threshold=1e-3) #Chi-sq rejection testing\n",
        "    r.chisq_best_param_correction(d,Ntries=4,viz=False,threshold=1e-3)\n",
        "\n",
        "    r.compute_sigma(d,num_cores=1) #Sigma, std error calcs\n",
        "\n",
        "    monod.analysis.make_batch_analysis_dir([r],dir_string)\n",
        "    r.update_on_disk()"
      ],
      "metadata": {
        "id": "wapoHgngLCtz",
        "outputId": "7ebf22c1-f165-400d-b45a-5256ede4a59c",
        "colab": {
          "base_uri": "https://localhost:8080/"
        }
      },
      "execution_count": null,
      "outputs": [
        {
          "output_type": "stream",
          "name": "stderr",
          "text": [
            "<frozen importlib._bootstrap>:914: ImportWarning: _PyDrive2ImportHook.find_spec() not found; falling back to find_module()\n",
            "<frozen importlib._bootstrap>:914: ImportWarning: _PyDriveImportHook.find_spec() not found; falling back to find_module()\n",
            "<frozen importlib._bootstrap>:914: ImportWarning: _GenerativeAIImportHook.find_spec() not found; falling back to find_module()\n",
            "<frozen importlib._bootstrap>:914: ImportWarning: _OpenCVImportHook.find_spec() not found; falling back to find_module()\n",
            "<frozen importlib._bootstrap>:914: ImportWarning: APICoreClientInfoImportHook.find_spec() not found; falling back to find_module()\n",
            "<frozen importlib._bootstrap>:914: ImportWarning: _BokehImportHook.find_spec() not found; falling back to find_module()\n",
            "<frozen importlib._bootstrap>:914: ImportWarning: _AltairImportHook.find_spec() not found; falling back to find_module()\n"
          ]
        }
      ]
    },
    {
      "cell_type": "code",
      "source": [
        "get_assigns(chosen_sr)"
      ],
      "metadata": {
        "id": "E2AKS6WFLXZM"
      },
      "execution_count": null,
      "outputs": []
    },
    {
      "cell_type": "code",
      "source": [
        "all_filt_fcs = make_fcs(chosen_sr,chosen_sd[0],clus1=4,clus2=5,\n",
        "                gf_rej=True,thrpars=2,thrmean=0.1,outlier_de=True,correct_off=True)\n",
        "\n",
        "all_filt_fcs.head()"
      ],
      "metadata": {
        "id": "r_AwJYdBLXcP"
      },
      "execution_count": null,
      "outputs": []
    },
    {
      "cell_type": "code",
      "source": [
        "#Save results\n",
        "all_filt_fcs.to_csv(dir_string+'day3_detheta_res.csv')"
      ],
      "metadata": {
        "id": "CZbSsgQxMUax"
      },
      "execution_count": null,
      "outputs": []
    },
    {
      "cell_type": "code",
      "source": [
        "#Assign DE genes to which cluster they are a 'marker' of\n",
        "out_marks = get_gene_DE(all_filt_fcs)"
      ],
      "metadata": {
        "id": "ZnTJ5e7TL4WX"
      },
      "execution_count": null,
      "outputs": []
    },
    {
      "cell_type": "code",
      "source": [
        "#Plot DE Genes\n",
        "\n",
        "dt_palette = palette={1:'#d4e4ff',4:'#003333',5:'#b7410e', 6:'#4c0011','None':'lightgrey'}\n",
        "\n",
        "names_plot = ['KRT6A','HMMR'] #Tpm1 age-related https://www.ncbi.nlm.nih.gov/pmc/articles/PMC8225046/\n",
        "mark_plot = [5,4]\n",
        "xpos = [-0.5,3]\n",
        "ypos = [-4.5,1.5]\n",
        "arrow = [True,True]\n",
        "\n",
        "plot_de(out_marks,names_plot ,mark_plot,xpos,ypos,arrow,\n",
        "        assign_colors=dt_palette,\n",
        "        figsize=(10,3.5),fname='DT_4_vs_5.pdf',xlims=[-10,10])\n",
        "\n"
      ],
      "metadata": {
        "id": "YGYgS3DZMGq_"
      },
      "execution_count": null,
      "outputs": []
    }
  ]
}