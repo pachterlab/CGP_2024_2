{
  "nbformat": 4,
  "nbformat_minor": 0,
  "metadata": {
    "colab": {
      "provenance": [],
      "authorship_tag": "ABX9TyPUULeJbUhNmnRFZSbDTQ/K",
      "include_colab_link": true
    },
    "kernelspec": {
      "name": "python3",
      "display_name": "Python 3"
    },
    "language_info": {
      "name": "python"
    }
  },
  "cells": [
    {
      "cell_type": "markdown",
      "metadata": {
        "id": "view-in-github",
        "colab_type": "text"
      },
      "source": [
        "<a href=\"https://colab.research.google.com/github/pachterlab/CGP_2024_2/blob/main/combinatorial_prediction_example.ipynb\" target=\"_parent\"><img src=\"https://colab.research.google.com/assets/colab-badge.svg\" alt=\"Open In Colab\"/></a>"
      ]
    },
    {
      "cell_type": "markdown",
      "source": [
        "**In this notebook we will test different predictive models of combinatorial perturbation behaviors using dual gRNA/CRISPRa conditions. This will demonstrate how to identify potential models of combinatorial regulation at the level of kinetic parameters.**"
      ],
      "metadata": {
        "id": "-ejJd0qU4vj1"
      }
    },
    {
      "cell_type": "markdown",
      "source": [
        "## **Read in data and metadata**"
      ],
      "metadata": {
        "id": "wlxbKawo5COw"
      }
    },
    {
      "cell_type": "code",
      "source": [
        "#Install\n",
        "!pip install --quiet monod\n",
        "!pip install -U --quiet loompy\n"
      ],
      "metadata": {
        "id": "Wec7iOao5Bm5"
      },
      "execution_count": null,
      "outputs": []
    },
    {
      "cell_type": "code",
      "source": [
        "\n",
        "# /home/tchari/metadata/norman_GSE133344_filtered_cell_identities.csv\n",
        "\n",
        "#gg_200525_genome_polyA_cum_3\n",
        "\n",
        "#/home/tchari/counts/norman_crispr/loom/allcrispr.loom\n",
        "\n",
        "#https://data.caltech.edu/records/ahjyk-gsj16/files/allcrispr_looms.tar.gz?download=1"
      ],
      "metadata": {
        "id": "_ZGAN5Hk5BpX"
      },
      "execution_count": null,
      "outputs": []
    },
    {
      "cell_type": "code",
      "execution_count": null,
      "metadata": {
        "id": "dBMDbeoszvXe"
      },
      "outputs": [],
      "source": [
        "import monod\n",
        "from monod import preprocess, extract_data, cme_toolbox, inference, analysis"
      ]
    },
    {
      "cell_type": "code",
      "source": [
        "import pandas as pd\n",
        "import numpy as np\n",
        "import loompy as lp\n",
        "import matplotlib.pyplot as plt\n",
        "import scipy\n",
        "import seaborn as sns\n",
        "import scipy.stats\n",
        "\n",
        "import random\n",
        "import glob\n",
        "import os"
      ],
      "metadata": {
        "id": "zL4CypnMs6LX"
      },
      "execution_count": null,
      "outputs": []
    },
    {
      "cell_type": "markdown",
      "source": [
        "## **Run *Monod* inference on loom files**"
      ],
      "metadata": {
        "id": "nB29Zz6T5QsN"
      }
    },
    {
      "cell_type": "markdown",
      "source": [
        "Set up files for Monod run and set cell barcode filters for desired conditions"
      ],
      "metadata": {
        "id": "j4yxKceC3ncN"
      }
    },
    {
      "cell_type": "code",
      "source": [
        "meta = pd.read_csv('./norman_GSE133344_filtered_cell_identities.csv') #Metadata for cells from study\n"
      ],
      "metadata": {
        "id": "8lYP1gX9RotR"
      },
      "execution_count": null,
      "outputs": []
    },
    {
      "cell_type": "code",
      "source": [
        "\n",
        "#Select individual control conditions, CBL/CNN1 conditions, and all controls combined\n",
        "subcluster_names = [['NegCtrl10_NegCtrl0__NegCtrl10_NegCtrl0'],['NegCtrl11_NegCtrl0__NegCtrl11_NegCtrl0'],\n",
        "                   ['NegCtrl1_NegCtrl0__NegCtrl1_NegCtrl0'],['NegCtrl0_NegCtrl0__NegCtrl0_NegCtrl0'],\n",
        "                   ['CBL_NegCtrl0__CBL_NegCtrl0'],['CBL_CNN1__CBL_CNN1'],\n",
        "                   ['NegCtrl0_CNN1__NegCtrl0_CNN1','CNN1_NegCtrl0__CNN1_NegCtrl0'],\n",
        "                   ['NegCtrl10_NegCtrl0__NegCtrl10_NegCtrl0','NegCtrl11_NegCtrl0__NegCtrl11_NegCtrl0',\n",
        "                    'NegCtrl0_NegCtrl0__NegCtrl0_NegCtrl0']]\n",
        "\n",
        "sub_names_only = ['_'.join(n) for n in subcluster_names]\n",
        "\n",
        "cluster_names = []\n",
        "dataset_names = sub_names_only   #To save\n",
        "print('dataset_names: ', dataset_names)\n",
        "print('len(dataset_names): ',len(dataset_names))\n",
        "print()\n",
        "\n",
        "\n",
        "transcriptome_filepath = './gg_200525_genome_polyA_cum_3'\n",
        "\n",
        "spliced_layer = 'spliced'\n",
        "unspliced_layer = 'unspliced'\n",
        "gene_attr = 'gene_name'\n",
        "cell_attr = 'barcode'\n",
        "\n",
        "attribute_names=[(unspliced_layer,spliced_layer),gene_attr,cell_attr]\n",
        "\n",
        "loom_filepaths = ['./allcrispr.loom']*len(dataset_names)\n",
        "print('loom_filepaths: ',loom_filepaths)\n",
        "\n",
        "n_datasets = len(loom_filepaths)"
      ],
      "metadata": {
        "id": "K7hvo2AD6zA7"
      },
      "execution_count": null,
      "outputs": []
    },
    {
      "cell_type": "code",
      "source": [
        "cf = [] #Get cell barcodes for each condition\n",
        "\n",
        "\n",
        "for k in range(len(dataset_names)):\n",
        "    filename = loom_filepaths[k]\n",
        "\n",
        "    with lp.connect(filename,mode='r') as ds:\n",
        "        bcs = ds.ca[cell_attr]\n",
        "\n",
        "    annot_bcs = meta[(meta['guide_identity'].isin(subcluster_names[k]))]['cell_barcode']\n",
        "    cf.append(np.isin(bcs,annot_bcs))\n",
        "    print(f'\\t{len(annot_bcs)} cells in annotations. {np.isin(bcs,annot_bcs).sum()} selected.')\n",
        "\n"
      ],
      "metadata": {
        "id": "AM04BLvB63-h"
      },
      "execution_count": null,
      "outputs": []
    },
    {
      "cell_type": "code",
      "source": [],
      "metadata": {
        "id": "T9vH0GiV5SP-"
      },
      "execution_count": null,
      "outputs": []
    },
    {
      "cell_type": "markdown",
      "source": [
        "**Set up *Monod* and select 500 genes to fit across all conditions**"
      ],
      "metadata": {
        "id": "xxZm-pci89oy"
      }
    },
    {
      "cell_type": "code",
      "source": [
        "dir_string,dataset_strings = monod.preprocess.construct_batch(loom_filepaths, \\\n",
        "                                             transcriptome_filepath, \\\n",
        "                                             dataset_names, \\\n",
        "                                             attribute_names=attribute_names,\\\n",
        "                                             batch_location='./',meta='crispra_combo',batch_id=1,\\\n",
        "                                             n_genes=500,exp_filter_threshold=None,cf=cf)"
      ],
      "metadata": {
        "id": "ONqV9kmV5SSb"
      },
      "execution_count": null,
      "outputs": []
    },
    {
      "cell_type": "code",
      "source": [],
      "metadata": {
        "id": "rKppQhWN9DRH"
      },
      "execution_count": null,
      "outputs": []
    },
    {
      "cell_type": "markdown",
      "source": [
        "**Run *Monod* inference**"
      ],
      "metadata": {
        "id": "ryvDP1gACejI"
      }
    },
    {
      "cell_type": "code",
      "source": [
        "#Define bounds for parameters\n",
        "phys_lb = [-2.0, -1.8, -1.8 ] #lower bounds for b,beta,gamma (log10)\n",
        "phys_ub = [4.2, 2.5, 2.5] #upper bounds for b,beta,gamma\n",
        "samp_lb = [-7.157894736842105, -1.25] #lower bounds for sampling parameters (c_u,lambda_s)\n",
        "samp_ub = [-7.157894736842105, -1.25] #upper bounds for sampling parameters (c_u,lambda_s)\n",
        "gridsize = [1,1] #We are running the technical parameters used in the study (no grid search)"
      ],
      "metadata": {
        "id": "hppuLm6e9DTZ"
      },
      "execution_count": null,
      "outputs": []
    },
    {
      "cell_type": "code",
      "source": [
        "result_strings = []\n",
        "for i in range(n_datasets):\n",
        "    #Set burst model with Poisson technical sampling\n",
        "    fitmodel = monod.cme_toolbox.CMEModel('Bursty','Poisson')\n",
        "\n",
        "    #Set up inference run\n",
        "    inference_parameters = monod.inference.InferenceParameters(phys_lb,phys_ub,samp_lb,samp_ub,gridsize,\\\n",
        "                dataset_strings[i],fitmodel,use_lengths = True,\n",
        "                gradient_params = {'max_iterations':5,'init_pattern':'moments','num_restarts':1})\n",
        "\n",
        "    search_data = monod.extract_data.extract_data(loom_filepaths[i], transcriptome_filepath, dataset_names[i],\n",
        "                dataset_strings[i], dir_string, dataset_attr_names=attribute_names,cf=cf[i])\n",
        "    #Run inference\n",
        "    full_result_string = inference_parameters.fit_all_grid_points(1,search_data)\n",
        "\n",
        "    result_strings.append(full_result_string)"
      ],
      "metadata": {
        "id": "SWWxDwJt9DWr"
      },
      "execution_count": null,
      "outputs": []
    },
    {
      "cell_type": "code",
      "source": [
        "#Get rejection statistics\n",
        "sr_arr = []\n",
        "sd_arr = []\n",
        "for i in range(n_datasets):\n",
        "    sr = monod.analysis.load_search_results(result_strings[i])\n",
        "    sd = monod.analysis.load_search_data(dir_string+'/'+dataset_names[i]+'/raw.sd')\n",
        "\n",
        "    sr.find_sampling_optimum()\n",
        "\n",
        "\n",
        "    _=sr.chisquare_testing(sd,threshold=1e-3)\n",
        "    sr.chisq_best_param_correction(sd,Ntries=4,viz=False,threshold=1e-3)\n",
        "\n",
        "    sr.compute_sigma(sd,num_cores=1)\n",
        "\n",
        "    monod.analysis.make_batch_analysis_dir([sr],dir_string)\n",
        "    sr.update_on_disk()\n",
        "\n",
        "    sr_arr += [sr]\n",
        "    sd_arr += [sd]"
      ],
      "metadata": {
        "id": "P69BorwqDjjv"
      },
      "execution_count": null,
      "outputs": []
    },
    {
      "cell_type": "markdown",
      "source": [
        "## **Multiplicative and Additive prediction models**"
      ],
      "metadata": {
        "id": "IWrUY_ks6nno"
      }
    },
    {
      "cell_type": "code",
      "source": [
        "def get_multAdd_annot(meanAdd,meanMult,true,trueErr,ci):\n",
        "    '''\n",
        "    Assign if param changes are mult/add/unknown.\n",
        "    Compare predicted value from mult/add models to CI around observed/true value\n",
        "    '''\n",
        "\n",
        "    lb = true - ci*trueErr\n",
        "    ub = true + ci*trueErr\n",
        "\n",
        "    if (lb <= meanAdd <= ub) & (lb <= meanMult <= ub):\n",
        "        return 'ambig'\n",
        "    elif (lb <= meanAdd <= ub):\n",
        "        return 'add'\n",
        "    elif (lb <= meanMult <= ub):\n",
        "        return 'mult'\n",
        "    elif (meanAdd < lb) & (meanMult < lb):\n",
        "        return 'supermult'\n",
        "    elif (meanAdd > ub) & (meanMult > ub):\n",
        "        return 'subadd'\n",
        "    else:\n",
        "        return 'ambig'\n",
        "\n",
        "\n",
        "def get_multAdd_preds(par_vals,inds,ctrlInds,sd_arr,filt,mod=0,ci=1.96):\n",
        "    '''\n",
        "    Get expr FC (for mod=0 for U or 1 for S), and param FCs, under mult/add models\n",
        "    '''\n",
        "    ci = ci #confidence interval\n",
        "    res = pd.DataFrame()\n",
        "\n",
        "    #Mean spliced/unspliced preds\n",
        "    meanU_add = np.log2(np.mean(sd_arr[inds[0]].layers[mod][filt,:],axis=1)/np.mean(sd_arr[inds[-1]].layers[mod][filt,:],axis=1) + np.mean(sd_arr[inds[1]].layers[mod][filt,:],axis=1)/np.mean(sd_arr[inds[-1]].layers[mod][filt,:],axis=1) -1)\n",
        "    meanU_mult = np.log2(np.mean(sd_arr[inds[0]].layers[mod][filt,:],axis=1)/np.mean(sd_arr[inds[-1]].layers[mod][filt,:],axis=1))+np.log2(np.mean(sd_arr[inds[1]].layers[mod][filt,:],axis=1)/np.mean(sd_arr[inds[-1]].layers[mod][filt,:],axis=1))\n",
        "\n",
        "    true_meanU = np.log2(np.mean(sd_arr[inds[2]].layers[mod][filt,:],axis=1)/np.mean(sd_arr[inds[-1]].layers[mod][filt,:],axis=1))\n",
        "    true_meanU_err = np.std(np.array([np.log2(np.mean(sd_arr[inds[2]].layers[mod][filt,:],axis=1)/np.mean(sd_arr[ctrlInds[i]].layers[mod][filt,:],axis=1)) for i in range(len(ctrlInds))]),axis=0)/np.sqrt(len(ctrlInds))\n",
        "\n",
        "    #Get mult/add assignment for means\n",
        "    means_multAdd = [get_multAdd_annot(meanU_add[i],meanU_mult[i],true_meanU[i],true_meanU_err[i],ci) for i in range(meanU_add.shape[0])]\n",
        "\n",
        "\n",
        "    z_mult,true  = pred_params(par_vals,inds,model='mult')\n",
        "\n",
        "    std_z_mult, std_true, allPreds_mult, allTrues = pred_stds(par_vals,inds,ctrlInds,model='mult')\n",
        "    std_true_err = std_true/np.sqrt(len(ctrlInds))\n",
        "\n",
        "    z_add,true_add  = pred_params(par_vals,inds,model='add') #np.log2(10**Z)\n",
        "\n",
        "    z_mult = z_mult[filt,:]\n",
        "    true = true[filt,:]\n",
        "    z_add = z_add[filt,:]\n",
        "    std_true_err = std_true_err[filt,:]\n",
        "\n",
        "    b_multAdd = [get_multAdd_annot(z_add[i,0],z_mult[i,0],true[i,0],std_true_err[i,0],ci) for i in range(meanU_add.shape[0])]\n",
        "    beta_multAdd = [get_multAdd_annot(z_add[i,1],z_mult[i,1],true[i,1],std_true_err[i,1],ci) for i in range(meanU_add.shape[0])]\n",
        "\n",
        "    res['gene'] = sd_arr[inds[0]].gene_names[filt]\n",
        "    res['exprAnnot'] = means_multAdd\n",
        "    res['exprFC'] = true_meanU\n",
        "    res['bAnnot'] = b_multAdd\n",
        "    res['betaAnnot'] = beta_multAdd\n",
        "    res['bStd'] = std_true[filt,0]\n",
        "    res['betaStd'] = std_true[filt,1]\n",
        "    res['gammaStd'] = std_true[filt,2]\n",
        "\n",
        "    res['bFC'] = np.log2(10**true[:,0])\n",
        "    res['betaFC'] = np.log2(10**true[:,1])\n",
        "    res['gammaFC'] = np.log2(10**true[:,2])\n",
        "\n",
        "    return res\n",
        "\n"
      ],
      "metadata": {
        "id": "HjhrU3RTQMZa"
      },
      "execution_count": null,
      "outputs": []
    },
    {
      "cell_type": "code",
      "source": [
        "#Save all biohpysical parameters, and the control to compare all against\n",
        "control = 7\n",
        "\n",
        "n_genes = sr_arr[0].n_genes\n",
        "n_phys_pars = sr_arr[0].sp.n_phys_pars\n",
        "par_vals_uncorrected = np.zeros((2,n_datasets,n_genes,n_phys_pars))\n",
        "\n",
        "\n",
        "for j in range(n_datasets):\n",
        "    par_vals_uncorrected[0,j,:,:] = sr_arr[control].phys_optimum #control params\n",
        "    par_vals_uncorrected[1,j,:,:] = sr_arr[j].phys_optimum\n"
      ],
      "metadata": {
        "id": "wCFfRrDr64Bh"
      },
      "execution_count": null,
      "outputs": []
    },
    {
      "cell_type": "code",
      "source": [
        "ctrlInds = [6,4,3] #individual control conditions\n",
        "control=7\n",
        "\n",
        "#Set which results are the individual and combined perturbation condition\n",
        "inds = [10,12,11,control] #......"
      ],
      "metadata": {
        "id": "AT0SfvFK64Eg"
      },
      "execution_count": null,
      "outputs": []
    },
    {
      "cell_type": "code",
      "source": [],
      "metadata": {
        "id": "_Itpq0gUKrvj"
      },
      "execution_count": null,
      "outputs": []
    },
    {
      "cell_type": "code",
      "source": [
        "#Make filter for\n",
        "cond1_res = sr_arr[inds[0]]\n",
        "cond2_res = sr_arr[inds[1]]\n",
        "both_res = sr_arr[inds[2]]\n",
        "ctrl_res = sr_arr[inds[3]]\n",
        "forFilt = ~cond1_res.rejected_genes & ~cond2_res.rejected_genes & ~both_res.rejected_genes & ~ctrl_res.rejected_genes"
      ],
      "metadata": {
        "id": "rDHAy2kyKr1s"
      },
      "execution_count": null,
      "outputs": []
    },
    {
      "cell_type": "code",
      "source": [
        "res = get_multAdd_preds(par_vals_uncorrected,inds,ctrlInds,sd_arr,forFilt,mod=0,ci=1.96) #mod=0 unspliced, mod=1 spliced counts\n",
        "res.head()"
      ],
      "metadata": {
        "id": "Teq6btwB64HK"
      },
      "execution_count": null,
      "outputs": []
    },
    {
      "cell_type": "code",
      "source": [
        "#Save as csv\n",
        "res.to_csv('multAdd_preds.csv',index=None)"
      ],
      "metadata": {
        "id": "ObLH3r1OR7bT"
      },
      "execution_count": null,
      "outputs": []
    },
    {
      "cell_type": "code",
      "source": [
        "#Distribution of strategies for beta fold changes for repressed genes (lowered expression)\n",
        "sub = res[(res['exprFC'] <-0.5)]\n",
        "sns.histplot(sub,x='betaAnnot')"
      ],
      "metadata": {
        "id": "rnDQ-pk9R66N"
      },
      "execution_count": null,
      "outputs": []
    }
  ]
}